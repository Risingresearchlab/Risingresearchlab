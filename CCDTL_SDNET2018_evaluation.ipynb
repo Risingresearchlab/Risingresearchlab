{
  "nbformat": 4,
  "nbformat_minor": 0,
  "metadata": {
    "colab": {
      "provenance": [],
      "collapsed_sections": [
        "0yKs8WF7Mngo",
        "W1KlOcOxQEsE",
        "v3EvviU3U6qh",
        "0BP6KJBSR0Ve",
        "VxsM-tRTNY3U",
        "OA1K-eL0sj0R",
        "QPiY8ubFuCIL",
        "t5wv0NXiq7P-",
        "rfucEOou4aFe",
        "fwdB1HFQNBf-",
        "p8uCuqPlM3Tg",
        "fDzdZTabJgvp"
      ],
      "include_colab_link": true
    },
    "kernelspec": {
      "name": "python3",
      "display_name": "Python 3"
    },
    "language_info": {
      "name": "python"
    },
    "gpuClass": "standard",
    "accelerator": "GPU",
    "widgets": {
      "application/vnd.jupyter.widget-state+json": {
        "a79b44a5032b4cd48e95d3de77b48a8c": {
          "model_module": "@jupyter-widgets/controls",
          "model_name": "HBoxModel",
          "model_module_version": "1.5.0",
          "state": {
            "_dom_classes": [],
            "_model_module": "@jupyter-widgets/controls",
            "_model_module_version": "1.5.0",
            "_model_name": "HBoxModel",
            "_view_count": null,
            "_view_module": "@jupyter-widgets/controls",
            "_view_module_version": "1.5.0",
            "_view_name": "HBoxView",
            "box_style": "",
            "children": [
              "IPY_MODEL_b2b6a10a64984cfe8e6fc0f7c544b935",
              "IPY_MODEL_d09e955e2589422f8b36d1de36c4aadc",
              "IPY_MODEL_253bd3d64c264d639c604b20099ee4e4"
            ],
            "layout": "IPY_MODEL_92702a953dab43afa8a2a9b83ef75349"
          }
        },
        "b2b6a10a64984cfe8e6fc0f7c544b935": {
          "model_module": "@jupyter-widgets/controls",
          "model_name": "HTMLModel",
          "model_module_version": "1.5.0",
          "state": {
            "_dom_classes": [],
            "_model_module": "@jupyter-widgets/controls",
            "_model_module_version": "1.5.0",
            "_model_name": "HTMLModel",
            "_view_count": null,
            "_view_module": "@jupyter-widgets/controls",
            "_view_module_version": "1.5.0",
            "_view_name": "HTMLView",
            "description": "",
            "description_tooltip": null,
            "layout": "IPY_MODEL_b5e39c3b8cd04d57b252e9d60b47f192",
            "placeholder": "​",
            "style": "IPY_MODEL_90ded63d48c84e62a30ba087bef5f100",
            "value": "100%"
          }
        },
        "d09e955e2589422f8b36d1de36c4aadc": {
          "model_module": "@jupyter-widgets/controls",
          "model_name": "FloatProgressModel",
          "model_module_version": "1.5.0",
          "state": {
            "_dom_classes": [],
            "_model_module": "@jupyter-widgets/controls",
            "_model_module_version": "1.5.0",
            "_model_name": "FloatProgressModel",
            "_view_count": null,
            "_view_module": "@jupyter-widgets/controls",
            "_view_module_version": "1.5.0",
            "_view_name": "ProgressView",
            "bar_style": "success",
            "description": "",
            "description_tooltip": null,
            "layout": "IPY_MODEL_5847aedea76e4665807f5f18f0700b34",
            "max": 553433881,
            "min": 0,
            "orientation": "horizontal",
            "style": "IPY_MODEL_6dfed149b73d42dbba013dca559eeb4f",
            "value": 553433881
          }
        },
        "253bd3d64c264d639c604b20099ee4e4": {
          "model_module": "@jupyter-widgets/controls",
          "model_name": "HTMLModel",
          "model_module_version": "1.5.0",
          "state": {
            "_dom_classes": [],
            "_model_module": "@jupyter-widgets/controls",
            "_model_module_version": "1.5.0",
            "_model_name": "HTMLModel",
            "_view_count": null,
            "_view_module": "@jupyter-widgets/controls",
            "_view_module_version": "1.5.0",
            "_view_name": "HTMLView",
            "description": "",
            "description_tooltip": null,
            "layout": "IPY_MODEL_5bc4d32dad35421db706f451500a6612",
            "placeholder": "​",
            "style": "IPY_MODEL_af7d1182aa434fc3908bdffb027551aa",
            "value": " 528M/528M [00:04&lt;00:00, 222MB/s]"
          }
        },
        "92702a953dab43afa8a2a9b83ef75349": {
          "model_module": "@jupyter-widgets/base",
          "model_name": "LayoutModel",
          "model_module_version": "1.2.0",
          "state": {
            "_model_module": "@jupyter-widgets/base",
            "_model_module_version": "1.2.0",
            "_model_name": "LayoutModel",
            "_view_count": null,
            "_view_module": "@jupyter-widgets/base",
            "_view_module_version": "1.2.0",
            "_view_name": "LayoutView",
            "align_content": null,
            "align_items": null,
            "align_self": null,
            "border": null,
            "bottom": null,
            "display": null,
            "flex": null,
            "flex_flow": null,
            "grid_area": null,
            "grid_auto_columns": null,
            "grid_auto_flow": null,
            "grid_auto_rows": null,
            "grid_column": null,
            "grid_gap": null,
            "grid_row": null,
            "grid_template_areas": null,
            "grid_template_columns": null,
            "grid_template_rows": null,
            "height": null,
            "justify_content": null,
            "justify_items": null,
            "left": null,
            "margin": null,
            "max_height": null,
            "max_width": null,
            "min_height": null,
            "min_width": null,
            "object_fit": null,
            "object_position": null,
            "order": null,
            "overflow": null,
            "overflow_x": null,
            "overflow_y": null,
            "padding": null,
            "right": null,
            "top": null,
            "visibility": null,
            "width": null
          }
        },
        "b5e39c3b8cd04d57b252e9d60b47f192": {
          "model_module": "@jupyter-widgets/base",
          "model_name": "LayoutModel",
          "model_module_version": "1.2.0",
          "state": {
            "_model_module": "@jupyter-widgets/base",
            "_model_module_version": "1.2.0",
            "_model_name": "LayoutModel",
            "_view_count": null,
            "_view_module": "@jupyter-widgets/base",
            "_view_module_version": "1.2.0",
            "_view_name": "LayoutView",
            "align_content": null,
            "align_items": null,
            "align_self": null,
            "border": null,
            "bottom": null,
            "display": null,
            "flex": null,
            "flex_flow": null,
            "grid_area": null,
            "grid_auto_columns": null,
            "grid_auto_flow": null,
            "grid_auto_rows": null,
            "grid_column": null,
            "grid_gap": null,
            "grid_row": null,
            "grid_template_areas": null,
            "grid_template_columns": null,
            "grid_template_rows": null,
            "height": null,
            "justify_content": null,
            "justify_items": null,
            "left": null,
            "margin": null,
            "max_height": null,
            "max_width": null,
            "min_height": null,
            "min_width": null,
            "object_fit": null,
            "object_position": null,
            "order": null,
            "overflow": null,
            "overflow_x": null,
            "overflow_y": null,
            "padding": null,
            "right": null,
            "top": null,
            "visibility": null,
            "width": null
          }
        },
        "90ded63d48c84e62a30ba087bef5f100": {
          "model_module": "@jupyter-widgets/controls",
          "model_name": "DescriptionStyleModel",
          "model_module_version": "1.5.0",
          "state": {
            "_model_module": "@jupyter-widgets/controls",
            "_model_module_version": "1.5.0",
            "_model_name": "DescriptionStyleModel",
            "_view_count": null,
            "_view_module": "@jupyter-widgets/base",
            "_view_module_version": "1.2.0",
            "_view_name": "StyleView",
            "description_width": ""
          }
        },
        "5847aedea76e4665807f5f18f0700b34": {
          "model_module": "@jupyter-widgets/base",
          "model_name": "LayoutModel",
          "model_module_version": "1.2.0",
          "state": {
            "_model_module": "@jupyter-widgets/base",
            "_model_module_version": "1.2.0",
            "_model_name": "LayoutModel",
            "_view_count": null,
            "_view_module": "@jupyter-widgets/base",
            "_view_module_version": "1.2.0",
            "_view_name": "LayoutView",
            "align_content": null,
            "align_items": null,
            "align_self": null,
            "border": null,
            "bottom": null,
            "display": null,
            "flex": null,
            "flex_flow": null,
            "grid_area": null,
            "grid_auto_columns": null,
            "grid_auto_flow": null,
            "grid_auto_rows": null,
            "grid_column": null,
            "grid_gap": null,
            "grid_row": null,
            "grid_template_areas": null,
            "grid_template_columns": null,
            "grid_template_rows": null,
            "height": null,
            "justify_content": null,
            "justify_items": null,
            "left": null,
            "margin": null,
            "max_height": null,
            "max_width": null,
            "min_height": null,
            "min_width": null,
            "object_fit": null,
            "object_position": null,
            "order": null,
            "overflow": null,
            "overflow_x": null,
            "overflow_y": null,
            "padding": null,
            "right": null,
            "top": null,
            "visibility": null,
            "width": null
          }
        },
        "6dfed149b73d42dbba013dca559eeb4f": {
          "model_module": "@jupyter-widgets/controls",
          "model_name": "ProgressStyleModel",
          "model_module_version": "1.5.0",
          "state": {
            "_model_module": "@jupyter-widgets/controls",
            "_model_module_version": "1.5.0",
            "_model_name": "ProgressStyleModel",
            "_view_count": null,
            "_view_module": "@jupyter-widgets/base",
            "_view_module_version": "1.2.0",
            "_view_name": "StyleView",
            "bar_color": null,
            "description_width": ""
          }
        },
        "5bc4d32dad35421db706f451500a6612": {
          "model_module": "@jupyter-widgets/base",
          "model_name": "LayoutModel",
          "model_module_version": "1.2.0",
          "state": {
            "_model_module": "@jupyter-widgets/base",
            "_model_module_version": "1.2.0",
            "_model_name": "LayoutModel",
            "_view_count": null,
            "_view_module": "@jupyter-widgets/base",
            "_view_module_version": "1.2.0",
            "_view_name": "LayoutView",
            "align_content": null,
            "align_items": null,
            "align_self": null,
            "border": null,
            "bottom": null,
            "display": null,
            "flex": null,
            "flex_flow": null,
            "grid_area": null,
            "grid_auto_columns": null,
            "grid_auto_flow": null,
            "grid_auto_rows": null,
            "grid_column": null,
            "grid_gap": null,
            "grid_row": null,
            "grid_template_areas": null,
            "grid_template_columns": null,
            "grid_template_rows": null,
            "height": null,
            "justify_content": null,
            "justify_items": null,
            "left": null,
            "margin": null,
            "max_height": null,
            "max_width": null,
            "min_height": null,
            "min_width": null,
            "object_fit": null,
            "object_position": null,
            "order": null,
            "overflow": null,
            "overflow_x": null,
            "overflow_y": null,
            "padding": null,
            "right": null,
            "top": null,
            "visibility": null,
            "width": null
          }
        },
        "af7d1182aa434fc3908bdffb027551aa": {
          "model_module": "@jupyter-widgets/controls",
          "model_name": "DescriptionStyleModel",
          "model_module_version": "1.5.0",
          "state": {
            "_model_module": "@jupyter-widgets/controls",
            "_model_module_version": "1.5.0",
            "_model_name": "DescriptionStyleModel",
            "_view_count": null,
            "_view_module": "@jupyter-widgets/base",
            "_view_module_version": "1.2.0",
            "_view_name": "StyleView",
            "description_width": ""
          }
        },
        "af36488ac74c4797819b4ed5b24556d4": {
          "model_module": "@jupyter-widgets/controls",
          "model_name": "HBoxModel",
          "model_module_version": "1.5.0",
          "state": {
            "_dom_classes": [],
            "_model_module": "@jupyter-widgets/controls",
            "_model_module_version": "1.5.0",
            "_model_name": "HBoxModel",
            "_view_count": null,
            "_view_module": "@jupyter-widgets/controls",
            "_view_module_version": "1.5.0",
            "_view_name": "HBoxView",
            "box_style": "",
            "children": [
              "IPY_MODEL_4fd802f3cfc548d0a45efa2db330881d",
              "IPY_MODEL_26337b1859264342b9b0d006bbee657c",
              "IPY_MODEL_b7d4256691544ca989c808da9f21ab4d"
            ],
            "layout": "IPY_MODEL_0b25698d69df4591b33150b6b4d3d005"
          }
        },
        "4fd802f3cfc548d0a45efa2db330881d": {
          "model_module": "@jupyter-widgets/controls",
          "model_name": "HTMLModel",
          "model_module_version": "1.5.0",
          "state": {
            "_dom_classes": [],
            "_model_module": "@jupyter-widgets/controls",
            "_model_module_version": "1.5.0",
            "_model_name": "HTMLModel",
            "_view_count": null,
            "_view_module": "@jupyter-widgets/controls",
            "_view_module_version": "1.5.0",
            "_view_name": "HTMLView",
            "description": "",
            "description_tooltip": null,
            "layout": "IPY_MODEL_64b10734093441e4919cb739bb2a1eeb",
            "placeholder": "​",
            "style": "IPY_MODEL_75c40f0cbe2444b9b9d5082c20bd856a",
            "value": "100%"
          }
        },
        "26337b1859264342b9b0d006bbee657c": {
          "model_module": "@jupyter-widgets/controls",
          "model_name": "FloatProgressModel",
          "model_module_version": "1.5.0",
          "state": {
            "_dom_classes": [],
            "_model_module": "@jupyter-widgets/controls",
            "_model_module_version": "1.5.0",
            "_model_name": "FloatProgressModel",
            "_view_count": null,
            "_view_module": "@jupyter-widgets/controls",
            "_view_module_version": "1.5.0",
            "_view_name": "ProgressView",
            "bar_style": "success",
            "description": "",
            "description_tooltip": null,
            "layout": "IPY_MODEL_a5b23c1283784686a9caea0713d7ecd3",
            "max": 46830571,
            "min": 0,
            "orientation": "horizontal",
            "style": "IPY_MODEL_f2ed9964e6f241e1a928674d95e59097",
            "value": 46830571
          }
        },
        "b7d4256691544ca989c808da9f21ab4d": {
          "model_module": "@jupyter-widgets/controls",
          "model_name": "HTMLModel",
          "model_module_version": "1.5.0",
          "state": {
            "_dom_classes": [],
            "_model_module": "@jupyter-widgets/controls",
            "_model_module_version": "1.5.0",
            "_model_name": "HTMLModel",
            "_view_count": null,
            "_view_module": "@jupyter-widgets/controls",
            "_view_module_version": "1.5.0",
            "_view_name": "HTMLView",
            "description": "",
            "description_tooltip": null,
            "layout": "IPY_MODEL_462f5623d938469caee2f0fac6989321",
            "placeholder": "​",
            "style": "IPY_MODEL_92826862595a4cc19e2f7c18df709a22",
            "value": " 44.7M/44.7M [00:00&lt;00:00, 204MB/s]"
          }
        },
        "0b25698d69df4591b33150b6b4d3d005": {
          "model_module": "@jupyter-widgets/base",
          "model_name": "LayoutModel",
          "model_module_version": "1.2.0",
          "state": {
            "_model_module": "@jupyter-widgets/base",
            "_model_module_version": "1.2.0",
            "_model_name": "LayoutModel",
            "_view_count": null,
            "_view_module": "@jupyter-widgets/base",
            "_view_module_version": "1.2.0",
            "_view_name": "LayoutView",
            "align_content": null,
            "align_items": null,
            "align_self": null,
            "border": null,
            "bottom": null,
            "display": null,
            "flex": null,
            "flex_flow": null,
            "grid_area": null,
            "grid_auto_columns": null,
            "grid_auto_flow": null,
            "grid_auto_rows": null,
            "grid_column": null,
            "grid_gap": null,
            "grid_row": null,
            "grid_template_areas": null,
            "grid_template_columns": null,
            "grid_template_rows": null,
            "height": null,
            "justify_content": null,
            "justify_items": null,
            "left": null,
            "margin": null,
            "max_height": null,
            "max_width": null,
            "min_height": null,
            "min_width": null,
            "object_fit": null,
            "object_position": null,
            "order": null,
            "overflow": null,
            "overflow_x": null,
            "overflow_y": null,
            "padding": null,
            "right": null,
            "top": null,
            "visibility": null,
            "width": null
          }
        },
        "64b10734093441e4919cb739bb2a1eeb": {
          "model_module": "@jupyter-widgets/base",
          "model_name": "LayoutModel",
          "model_module_version": "1.2.0",
          "state": {
            "_model_module": "@jupyter-widgets/base",
            "_model_module_version": "1.2.0",
            "_model_name": "LayoutModel",
            "_view_count": null,
            "_view_module": "@jupyter-widgets/base",
            "_view_module_version": "1.2.0",
            "_view_name": "LayoutView",
            "align_content": null,
            "align_items": null,
            "align_self": null,
            "border": null,
            "bottom": null,
            "display": null,
            "flex": null,
            "flex_flow": null,
            "grid_area": null,
            "grid_auto_columns": null,
            "grid_auto_flow": null,
            "grid_auto_rows": null,
            "grid_column": null,
            "grid_gap": null,
            "grid_row": null,
            "grid_template_areas": null,
            "grid_template_columns": null,
            "grid_template_rows": null,
            "height": null,
            "justify_content": null,
            "justify_items": null,
            "left": null,
            "margin": null,
            "max_height": null,
            "max_width": null,
            "min_height": null,
            "min_width": null,
            "object_fit": null,
            "object_position": null,
            "order": null,
            "overflow": null,
            "overflow_x": null,
            "overflow_y": null,
            "padding": null,
            "right": null,
            "top": null,
            "visibility": null,
            "width": null
          }
        },
        "75c40f0cbe2444b9b9d5082c20bd856a": {
          "model_module": "@jupyter-widgets/controls",
          "model_name": "DescriptionStyleModel",
          "model_module_version": "1.5.0",
          "state": {
            "_model_module": "@jupyter-widgets/controls",
            "_model_module_version": "1.5.0",
            "_model_name": "DescriptionStyleModel",
            "_view_count": null,
            "_view_module": "@jupyter-widgets/base",
            "_view_module_version": "1.2.0",
            "_view_name": "StyleView",
            "description_width": ""
          }
        },
        "a5b23c1283784686a9caea0713d7ecd3": {
          "model_module": "@jupyter-widgets/base",
          "model_name": "LayoutModel",
          "model_module_version": "1.2.0",
          "state": {
            "_model_module": "@jupyter-widgets/base",
            "_model_module_version": "1.2.0",
            "_model_name": "LayoutModel",
            "_view_count": null,
            "_view_module": "@jupyter-widgets/base",
            "_view_module_version": "1.2.0",
            "_view_name": "LayoutView",
            "align_content": null,
            "align_items": null,
            "align_self": null,
            "border": null,
            "bottom": null,
            "display": null,
            "flex": null,
            "flex_flow": null,
            "grid_area": null,
            "grid_auto_columns": null,
            "grid_auto_flow": null,
            "grid_auto_rows": null,
            "grid_column": null,
            "grid_gap": null,
            "grid_row": null,
            "grid_template_areas": null,
            "grid_template_columns": null,
            "grid_template_rows": null,
            "height": null,
            "justify_content": null,
            "justify_items": null,
            "left": null,
            "margin": null,
            "max_height": null,
            "max_width": null,
            "min_height": null,
            "min_width": null,
            "object_fit": null,
            "object_position": null,
            "order": null,
            "overflow": null,
            "overflow_x": null,
            "overflow_y": null,
            "padding": null,
            "right": null,
            "top": null,
            "visibility": null,
            "width": null
          }
        },
        "f2ed9964e6f241e1a928674d95e59097": {
          "model_module": "@jupyter-widgets/controls",
          "model_name": "ProgressStyleModel",
          "model_module_version": "1.5.0",
          "state": {
            "_model_module": "@jupyter-widgets/controls",
            "_model_module_version": "1.5.0",
            "_model_name": "ProgressStyleModel",
            "_view_count": null,
            "_view_module": "@jupyter-widgets/base",
            "_view_module_version": "1.2.0",
            "_view_name": "StyleView",
            "bar_color": null,
            "description_width": ""
          }
        },
        "462f5623d938469caee2f0fac6989321": {
          "model_module": "@jupyter-widgets/base",
          "model_name": "LayoutModel",
          "model_module_version": "1.2.0",
          "state": {
            "_model_module": "@jupyter-widgets/base",
            "_model_module_version": "1.2.0",
            "_model_name": "LayoutModel",
            "_view_count": null,
            "_view_module": "@jupyter-widgets/base",
            "_view_module_version": "1.2.0",
            "_view_name": "LayoutView",
            "align_content": null,
            "align_items": null,
            "align_self": null,
            "border": null,
            "bottom": null,
            "display": null,
            "flex": null,
            "flex_flow": null,
            "grid_area": null,
            "grid_auto_columns": null,
            "grid_auto_flow": null,
            "grid_auto_rows": null,
            "grid_column": null,
            "grid_gap": null,
            "grid_row": null,
            "grid_template_areas": null,
            "grid_template_columns": null,
            "grid_template_rows": null,
            "height": null,
            "justify_content": null,
            "justify_items": null,
            "left": null,
            "margin": null,
            "max_height": null,
            "max_width": null,
            "min_height": null,
            "min_width": null,
            "object_fit": null,
            "object_position": null,
            "order": null,
            "overflow": null,
            "overflow_x": null,
            "overflow_y": null,
            "padding": null,
            "right": null,
            "top": null,
            "visibility": null,
            "width": null
          }
        },
        "92826862595a4cc19e2f7c18df709a22": {
          "model_module": "@jupyter-widgets/controls",
          "model_name": "DescriptionStyleModel",
          "model_module_version": "1.5.0",
          "state": {
            "_model_module": "@jupyter-widgets/controls",
            "_model_module_version": "1.5.0",
            "_model_name": "DescriptionStyleModel",
            "_view_count": null,
            "_view_module": "@jupyter-widgets/base",
            "_view_module_version": "1.2.0",
            "_view_name": "StyleView",
            "description_width": ""
          }
        },
        "526bc7f284eb48189204860d4dff88c2": {
          "model_module": "@jupyter-widgets/controls",
          "model_name": "HBoxModel",
          "model_module_version": "1.5.0",
          "state": {
            "_dom_classes": [],
            "_model_module": "@jupyter-widgets/controls",
            "_model_module_version": "1.5.0",
            "_model_name": "HBoxModel",
            "_view_count": null,
            "_view_module": "@jupyter-widgets/controls",
            "_view_module_version": "1.5.0",
            "_view_name": "HBoxView",
            "box_style": "",
            "children": [
              "IPY_MODEL_1c8e014fcfc94ffc80d3375d63060b3a",
              "IPY_MODEL_bf3ab26f4aa440619cdb588d2442378e",
              "IPY_MODEL_b202c7bc8044416f82fc5712ef8af439"
            ],
            "layout": "IPY_MODEL_fc92a6233e9c4ff483276cb6a110b1ea"
          }
        },
        "1c8e014fcfc94ffc80d3375d63060b3a": {
          "model_module": "@jupyter-widgets/controls",
          "model_name": "HTMLModel",
          "model_module_version": "1.5.0",
          "state": {
            "_dom_classes": [],
            "_model_module": "@jupyter-widgets/controls",
            "_model_module_version": "1.5.0",
            "_model_name": "HTMLModel",
            "_view_count": null,
            "_view_module": "@jupyter-widgets/controls",
            "_view_module_version": "1.5.0",
            "_view_name": "HTMLView",
            "description": "",
            "description_tooltip": null,
            "layout": "IPY_MODEL_c512c082f45445c98eb9ace5afba042e",
            "placeholder": "​",
            "style": "IPY_MODEL_914cc7025738482e9cd1fc22bc1967bc",
            "value": "100%"
          }
        },
        "bf3ab26f4aa440619cdb588d2442378e": {
          "model_module": "@jupyter-widgets/controls",
          "model_name": "FloatProgressModel",
          "model_module_version": "1.5.0",
          "state": {
            "_dom_classes": [],
            "_model_module": "@jupyter-widgets/controls",
            "_model_module_version": "1.5.0",
            "_model_name": "FloatProgressModel",
            "_view_count": null,
            "_view_module": "@jupyter-widgets/controls",
            "_view_module_version": "1.5.0",
            "_view_name": "ProgressView",
            "bar_style": "success",
            "description": "",
            "description_tooltip": null,
            "layout": "IPY_MODEL_5de5704a27244da095ca06a07989b613",
            "max": 115730790,
            "min": 0,
            "orientation": "horizontal",
            "style": "IPY_MODEL_6a4ad8894c434fe3873908a52ab45c99",
            "value": 115730790
          }
        },
        "b202c7bc8044416f82fc5712ef8af439": {
          "model_module": "@jupyter-widgets/controls",
          "model_name": "HTMLModel",
          "model_module_version": "1.5.0",
          "state": {
            "_dom_classes": [],
            "_model_module": "@jupyter-widgets/controls",
            "_model_module_version": "1.5.0",
            "_model_name": "HTMLModel",
            "_view_count": null,
            "_view_module": "@jupyter-widgets/controls",
            "_view_module_version": "1.5.0",
            "_view_name": "HTMLView",
            "description": "",
            "description_tooltip": null,
            "layout": "IPY_MODEL_b41f5ffab90543ec9aa09ccff94c84a9",
            "placeholder": "​",
            "style": "IPY_MODEL_a09ffa8ea3a34e1ea44a7cfc0293d5c2",
            "value": " 110M/110M [00:00&lt;00:00, 195MB/s]"
          }
        },
        "fc92a6233e9c4ff483276cb6a110b1ea": {
          "model_module": "@jupyter-widgets/base",
          "model_name": "LayoutModel",
          "model_module_version": "1.2.0",
          "state": {
            "_model_module": "@jupyter-widgets/base",
            "_model_module_version": "1.2.0",
            "_model_name": "LayoutModel",
            "_view_count": null,
            "_view_module": "@jupyter-widgets/base",
            "_view_module_version": "1.2.0",
            "_view_name": "LayoutView",
            "align_content": null,
            "align_items": null,
            "align_self": null,
            "border": null,
            "bottom": null,
            "display": null,
            "flex": null,
            "flex_flow": null,
            "grid_area": null,
            "grid_auto_columns": null,
            "grid_auto_flow": null,
            "grid_auto_rows": null,
            "grid_column": null,
            "grid_gap": null,
            "grid_row": null,
            "grid_template_areas": null,
            "grid_template_columns": null,
            "grid_template_rows": null,
            "height": null,
            "justify_content": null,
            "justify_items": null,
            "left": null,
            "margin": null,
            "max_height": null,
            "max_width": null,
            "min_height": null,
            "min_width": null,
            "object_fit": null,
            "object_position": null,
            "order": null,
            "overflow": null,
            "overflow_x": null,
            "overflow_y": null,
            "padding": null,
            "right": null,
            "top": null,
            "visibility": null,
            "width": null
          }
        },
        "c512c082f45445c98eb9ace5afba042e": {
          "model_module": "@jupyter-widgets/base",
          "model_name": "LayoutModel",
          "model_module_version": "1.2.0",
          "state": {
            "_model_module": "@jupyter-widgets/base",
            "_model_module_version": "1.2.0",
            "_model_name": "LayoutModel",
            "_view_count": null,
            "_view_module": "@jupyter-widgets/base",
            "_view_module_version": "1.2.0",
            "_view_name": "LayoutView",
            "align_content": null,
            "align_items": null,
            "align_self": null,
            "border": null,
            "bottom": null,
            "display": null,
            "flex": null,
            "flex_flow": null,
            "grid_area": null,
            "grid_auto_columns": null,
            "grid_auto_flow": null,
            "grid_auto_rows": null,
            "grid_column": null,
            "grid_gap": null,
            "grid_row": null,
            "grid_template_areas": null,
            "grid_template_columns": null,
            "grid_template_rows": null,
            "height": null,
            "justify_content": null,
            "justify_items": null,
            "left": null,
            "margin": null,
            "max_height": null,
            "max_width": null,
            "min_height": null,
            "min_width": null,
            "object_fit": null,
            "object_position": null,
            "order": null,
            "overflow": null,
            "overflow_x": null,
            "overflow_y": null,
            "padding": null,
            "right": null,
            "top": null,
            "visibility": null,
            "width": null
          }
        },
        "914cc7025738482e9cd1fc22bc1967bc": {
          "model_module": "@jupyter-widgets/controls",
          "model_name": "DescriptionStyleModel",
          "model_module_version": "1.5.0",
          "state": {
            "_model_module": "@jupyter-widgets/controls",
            "_model_module_version": "1.5.0",
            "_model_name": "DescriptionStyleModel",
            "_view_count": null,
            "_view_module": "@jupyter-widgets/base",
            "_view_module_version": "1.2.0",
            "_view_name": "StyleView",
            "description_width": ""
          }
        },
        "5de5704a27244da095ca06a07989b613": {
          "model_module": "@jupyter-widgets/base",
          "model_name": "LayoutModel",
          "model_module_version": "1.2.0",
          "state": {
            "_model_module": "@jupyter-widgets/base",
            "_model_module_version": "1.2.0",
            "_model_name": "LayoutModel",
            "_view_count": null,
            "_view_module": "@jupyter-widgets/base",
            "_view_module_version": "1.2.0",
            "_view_name": "LayoutView",
            "align_content": null,
            "align_items": null,
            "align_self": null,
            "border": null,
            "bottom": null,
            "display": null,
            "flex": null,
            "flex_flow": null,
            "grid_area": null,
            "grid_auto_columns": null,
            "grid_auto_flow": null,
            "grid_auto_rows": null,
            "grid_column": null,
            "grid_gap": null,
            "grid_row": null,
            "grid_template_areas": null,
            "grid_template_columns": null,
            "grid_template_rows": null,
            "height": null,
            "justify_content": null,
            "justify_items": null,
            "left": null,
            "margin": null,
            "max_height": null,
            "max_width": null,
            "min_height": null,
            "min_width": null,
            "object_fit": null,
            "object_position": null,
            "order": null,
            "overflow": null,
            "overflow_x": null,
            "overflow_y": null,
            "padding": null,
            "right": null,
            "top": null,
            "visibility": null,
            "width": null
          }
        },
        "6a4ad8894c434fe3873908a52ab45c99": {
          "model_module": "@jupyter-widgets/controls",
          "model_name": "ProgressStyleModel",
          "model_module_version": "1.5.0",
          "state": {
            "_model_module": "@jupyter-widgets/controls",
            "_model_module_version": "1.5.0",
            "_model_name": "ProgressStyleModel",
            "_view_count": null,
            "_view_module": "@jupyter-widgets/base",
            "_view_module_version": "1.2.0",
            "_view_name": "StyleView",
            "bar_color": null,
            "description_width": ""
          }
        },
        "b41f5ffab90543ec9aa09ccff94c84a9": {
          "model_module": "@jupyter-widgets/base",
          "model_name": "LayoutModel",
          "model_module_version": "1.2.0",
          "state": {
            "_model_module": "@jupyter-widgets/base",
            "_model_module_version": "1.2.0",
            "_model_name": "LayoutModel",
            "_view_count": null,
            "_view_module": "@jupyter-widgets/base",
            "_view_module_version": "1.2.0",
            "_view_name": "LayoutView",
            "align_content": null,
            "align_items": null,
            "align_self": null,
            "border": null,
            "bottom": null,
            "display": null,
            "flex": null,
            "flex_flow": null,
            "grid_area": null,
            "grid_auto_columns": null,
            "grid_auto_flow": null,
            "grid_auto_rows": null,
            "grid_column": null,
            "grid_gap": null,
            "grid_row": null,
            "grid_template_areas": null,
            "grid_template_columns": null,
            "grid_template_rows": null,
            "height": null,
            "justify_content": null,
            "justify_items": null,
            "left": null,
            "margin": null,
            "max_height": null,
            "max_width": null,
            "min_height": null,
            "min_width": null,
            "object_fit": null,
            "object_position": null,
            "order": null,
            "overflow": null,
            "overflow_x": null,
            "overflow_y": null,
            "padding": null,
            "right": null,
            "top": null,
            "visibility": null,
            "width": null
          }
        },
        "a09ffa8ea3a34e1ea44a7cfc0293d5c2": {
          "model_module": "@jupyter-widgets/controls",
          "model_name": "DescriptionStyleModel",
          "model_module_version": "1.5.0",
          "state": {
            "_model_module": "@jupyter-widgets/controls",
            "_model_module_version": "1.5.0",
            "_model_name": "DescriptionStyleModel",
            "_view_count": null,
            "_view_module": "@jupyter-widgets/base",
            "_view_module_version": "1.2.0",
            "_view_name": "StyleView",
            "description_width": ""
          }
        },
        "52c29a07a2c54ebe9013e46abc9ef5d6": {
          "model_module": "@jupyter-widgets/controls",
          "model_name": "HBoxModel",
          "model_module_version": "1.5.0",
          "state": {
            "_dom_classes": [],
            "_model_module": "@jupyter-widgets/controls",
            "_model_module_version": "1.5.0",
            "_model_name": "HBoxModel",
            "_view_count": null,
            "_view_module": "@jupyter-widgets/controls",
            "_view_module_version": "1.5.0",
            "_view_name": "HBoxView",
            "box_style": "",
            "children": [
              "IPY_MODEL_7efb03ad13c84b38897bc384f24633c7",
              "IPY_MODEL_6bae515b38bd4630a13ac847ffdbebc4",
              "IPY_MODEL_5656818185c24826b41cca849f49a07a"
            ],
            "layout": "IPY_MODEL_3ae9936b9b324ec2b235d5dfb0a14a23"
          }
        },
        "7efb03ad13c84b38897bc384f24633c7": {
          "model_module": "@jupyter-widgets/controls",
          "model_name": "HTMLModel",
          "model_module_version": "1.5.0",
          "state": {
            "_dom_classes": [],
            "_model_module": "@jupyter-widgets/controls",
            "_model_module_version": "1.5.0",
            "_model_name": "HTMLModel",
            "_view_count": null,
            "_view_module": "@jupyter-widgets/controls",
            "_view_module_version": "1.5.0",
            "_view_name": "HTMLView",
            "description": "",
            "description_tooltip": null,
            "layout": "IPY_MODEL_1372122811ae4b4e9a70a5651647b6e1",
            "placeholder": "​",
            "style": "IPY_MODEL_1be62ea074ce4573989decf5c09a9165",
            "value": "100%"
          }
        },
        "6bae515b38bd4630a13ac847ffdbebc4": {
          "model_module": "@jupyter-widgets/controls",
          "model_name": "FloatProgressModel",
          "model_module_version": "1.5.0",
          "state": {
            "_dom_classes": [],
            "_model_module": "@jupyter-widgets/controls",
            "_model_module_version": "1.5.0",
            "_model_name": "FloatProgressModel",
            "_view_count": null,
            "_view_module": "@jupyter-widgets/controls",
            "_view_module_version": "1.5.0",
            "_view_name": "ProgressView",
            "bar_style": "success",
            "description": "",
            "description_tooltip": null,
            "layout": "IPY_MODEL_daa515280b194900bc4ea2e43c4e1386",
            "max": 244408911,
            "min": 0,
            "orientation": "horizontal",
            "style": "IPY_MODEL_2bbe5038b86249e68511973963b7da52",
            "value": 244408911
          }
        },
        "5656818185c24826b41cca849f49a07a": {
          "model_module": "@jupyter-widgets/controls",
          "model_name": "HTMLModel",
          "model_module_version": "1.5.0",
          "state": {
            "_dom_classes": [],
            "_model_module": "@jupyter-widgets/controls",
            "_model_module_version": "1.5.0",
            "_model_name": "HTMLModel",
            "_view_count": null,
            "_view_module": "@jupyter-widgets/controls",
            "_view_module_version": "1.5.0",
            "_view_name": "HTMLView",
            "description": "",
            "description_tooltip": null,
            "layout": "IPY_MODEL_ee78c24ad4574d2384a39009dde7bb5a",
            "placeholder": "​",
            "style": "IPY_MODEL_1a569adaa11c45ad8846f55f6b4c1214",
            "value": " 233M/233M [00:02&lt;00:00, 102MB/s]"
          }
        },
        "3ae9936b9b324ec2b235d5dfb0a14a23": {
          "model_module": "@jupyter-widgets/base",
          "model_name": "LayoutModel",
          "model_module_version": "1.2.0",
          "state": {
            "_model_module": "@jupyter-widgets/base",
            "_model_module_version": "1.2.0",
            "_model_name": "LayoutModel",
            "_view_count": null,
            "_view_module": "@jupyter-widgets/base",
            "_view_module_version": "1.2.0",
            "_view_name": "LayoutView",
            "align_content": null,
            "align_items": null,
            "align_self": null,
            "border": null,
            "bottom": null,
            "display": null,
            "flex": null,
            "flex_flow": null,
            "grid_area": null,
            "grid_auto_columns": null,
            "grid_auto_flow": null,
            "grid_auto_rows": null,
            "grid_column": null,
            "grid_gap": null,
            "grid_row": null,
            "grid_template_areas": null,
            "grid_template_columns": null,
            "grid_template_rows": null,
            "height": null,
            "justify_content": null,
            "justify_items": null,
            "left": null,
            "margin": null,
            "max_height": null,
            "max_width": null,
            "min_height": null,
            "min_width": null,
            "object_fit": null,
            "object_position": null,
            "order": null,
            "overflow": null,
            "overflow_x": null,
            "overflow_y": null,
            "padding": null,
            "right": null,
            "top": null,
            "visibility": null,
            "width": null
          }
        },
        "1372122811ae4b4e9a70a5651647b6e1": {
          "model_module": "@jupyter-widgets/base",
          "model_name": "LayoutModel",
          "model_module_version": "1.2.0",
          "state": {
            "_model_module": "@jupyter-widgets/base",
            "_model_module_version": "1.2.0",
            "_model_name": "LayoutModel",
            "_view_count": null,
            "_view_module": "@jupyter-widgets/base",
            "_view_module_version": "1.2.0",
            "_view_name": "LayoutView",
            "align_content": null,
            "align_items": null,
            "align_self": null,
            "border": null,
            "bottom": null,
            "display": null,
            "flex": null,
            "flex_flow": null,
            "grid_area": null,
            "grid_auto_columns": null,
            "grid_auto_flow": null,
            "grid_auto_rows": null,
            "grid_column": null,
            "grid_gap": null,
            "grid_row": null,
            "grid_template_areas": null,
            "grid_template_columns": null,
            "grid_template_rows": null,
            "height": null,
            "justify_content": null,
            "justify_items": null,
            "left": null,
            "margin": null,
            "max_height": null,
            "max_width": null,
            "min_height": null,
            "min_width": null,
            "object_fit": null,
            "object_position": null,
            "order": null,
            "overflow": null,
            "overflow_x": null,
            "overflow_y": null,
            "padding": null,
            "right": null,
            "top": null,
            "visibility": null,
            "width": null
          }
        },
        "1be62ea074ce4573989decf5c09a9165": {
          "model_module": "@jupyter-widgets/controls",
          "model_name": "DescriptionStyleModel",
          "model_module_version": "1.5.0",
          "state": {
            "_model_module": "@jupyter-widgets/controls",
            "_model_module_version": "1.5.0",
            "_model_name": "DescriptionStyleModel",
            "_view_count": null,
            "_view_module": "@jupyter-widgets/base",
            "_view_module_version": "1.2.0",
            "_view_name": "StyleView",
            "description_width": ""
          }
        },
        "daa515280b194900bc4ea2e43c4e1386": {
          "model_module": "@jupyter-widgets/base",
          "model_name": "LayoutModel",
          "model_module_version": "1.2.0",
          "state": {
            "_model_module": "@jupyter-widgets/base",
            "_model_module_version": "1.2.0",
            "_model_name": "LayoutModel",
            "_view_count": null,
            "_view_module": "@jupyter-widgets/base",
            "_view_module_version": "1.2.0",
            "_view_name": "LayoutView",
            "align_content": null,
            "align_items": null,
            "align_self": null,
            "border": null,
            "bottom": null,
            "display": null,
            "flex": null,
            "flex_flow": null,
            "grid_area": null,
            "grid_auto_columns": null,
            "grid_auto_flow": null,
            "grid_auto_rows": null,
            "grid_column": null,
            "grid_gap": null,
            "grid_row": null,
            "grid_template_areas": null,
            "grid_template_columns": null,
            "grid_template_rows": null,
            "height": null,
            "justify_content": null,
            "justify_items": null,
            "left": null,
            "margin": null,
            "max_height": null,
            "max_width": null,
            "min_height": null,
            "min_width": null,
            "object_fit": null,
            "object_position": null,
            "order": null,
            "overflow": null,
            "overflow_x": null,
            "overflow_y": null,
            "padding": null,
            "right": null,
            "top": null,
            "visibility": null,
            "width": null
          }
        },
        "2bbe5038b86249e68511973963b7da52": {
          "model_module": "@jupyter-widgets/controls",
          "model_name": "ProgressStyleModel",
          "model_module_version": "1.5.0",
          "state": {
            "_model_module": "@jupyter-widgets/controls",
            "_model_module_version": "1.5.0",
            "_model_name": "ProgressStyleModel",
            "_view_count": null,
            "_view_module": "@jupyter-widgets/base",
            "_view_module_version": "1.2.0",
            "_view_name": "StyleView",
            "bar_color": null,
            "description_width": ""
          }
        },
        "ee78c24ad4574d2384a39009dde7bb5a": {
          "model_module": "@jupyter-widgets/base",
          "model_name": "LayoutModel",
          "model_module_version": "1.2.0",
          "state": {
            "_model_module": "@jupyter-widgets/base",
            "_model_module_version": "1.2.0",
            "_model_name": "LayoutModel",
            "_view_count": null,
            "_view_module": "@jupyter-widgets/base",
            "_view_module_version": "1.2.0",
            "_view_name": "LayoutView",
            "align_content": null,
            "align_items": null,
            "align_self": null,
            "border": null,
            "bottom": null,
            "display": null,
            "flex": null,
            "flex_flow": null,
            "grid_area": null,
            "grid_auto_columns": null,
            "grid_auto_flow": null,
            "grid_auto_rows": null,
            "grid_column": null,
            "grid_gap": null,
            "grid_row": null,
            "grid_template_areas": null,
            "grid_template_columns": null,
            "grid_template_rows": null,
            "height": null,
            "justify_content": null,
            "justify_items": null,
            "left": null,
            "margin": null,
            "max_height": null,
            "max_width": null,
            "min_height": null,
            "min_width": null,
            "object_fit": null,
            "object_position": null,
            "order": null,
            "overflow": null,
            "overflow_x": null,
            "overflow_y": null,
            "padding": null,
            "right": null,
            "top": null,
            "visibility": null,
            "width": null
          }
        },
        "1a569adaa11c45ad8846f55f6b4c1214": {
          "model_module": "@jupyter-widgets/controls",
          "model_name": "DescriptionStyleModel",
          "model_module_version": "1.5.0",
          "state": {
            "_model_module": "@jupyter-widgets/controls",
            "_model_module_version": "1.5.0",
            "_model_name": "DescriptionStyleModel",
            "_view_count": null,
            "_view_module": "@jupyter-widgets/base",
            "_view_module_version": "1.2.0",
            "_view_name": "StyleView",
            "description_width": ""
          }
        }
      }
    }
  },
  "cells": [
    {
      "cell_type": "markdown",
      "metadata": {
        "id": "view-in-github",
        "colab_type": "text"
      },
      "source": [
        "<a href=\"https://colab.research.google.com/github/Risingresearchlab/Risingresearchlab/blob/main/CCDTL_SDNET2018_evaluation.ipynb\" target=\"_parent\"><img src=\"https://colab.research.google.com/assets/colab-badge.svg\" alt=\"Open In Colab\"/></a>"
      ]
    },
    {
      "cell_type": "markdown",
      "source": [
        "# Concrete Crack Detection (Evaluation on SDNET2018 dataset)\n",
        "\n",
        "This notebook will evaluate pre-trained concrete crack detection models on external dataset."
      ],
      "metadata": {
        "id": "5rSEzIqFMXf_"
      }
    },
    {
      "cell_type": "markdown",
      "source": [
        "# First Things First"
      ],
      "metadata": {
        "id": "imE4dpxkQcc0"
      }
    },
    {
      "cell_type": "markdown",
      "source": [
        "## Importing Libraries"
      ],
      "metadata": {
        "id": "0yKs8WF7Mngo"
      }
    },
    {
      "cell_type": "code",
      "execution_count": null,
      "metadata": {
        "id": "5iQaeZfoMDw2"
      },
      "outputs": [],
      "source": [
        "import torch\n",
        "import torch.nn as nn\n",
        "import torchvision\n",
        "from torchvision import datasets, transforms, models\n",
        "from torchsummary import summary\n",
        "from sklearn.metrics import (\n",
        "        accuracy_score,\n",
        "        precision_score,\n",
        "        recall_score,\n",
        "        f1_score,\n",
        "        classification_report, \n",
        "        confusion_matrix,\n",
        "        precision_recall_curve,\n",
        "        average_precision_score,\n",
        "        ConfusionMatrixDisplay,\n",
        "        PrecisionRecallDisplay,\n",
        "      )\n",
        "import numpy as np\n",
        "import pandas as pd\n",
        "import matplotlib.pyplot as plt\n",
        "import matplotlib.image as mpimg\n",
        "import PIL\n",
        "from datetime import datetime\n",
        "from pathlib import Path\n",
        "import random\n",
        "import sys, os\n",
        "import shutil\n",
        "from glob import glob\n",
        "import imageio\n",
        "import json\n",
        "import pickle"
      ]
    },
    {
      "cell_type": "markdown",
      "source": [
        "## Configurations"
      ],
      "metadata": {
        "id": "RrHs9cpdM_VA"
      }
    },
    {
      "cell_type": "code",
      "source": [
        "#@title ## Configuration Form\n",
        "\n",
        "#@markdown ---\n",
        "#@markdown #### **Developer Attention**\n",
        "#@markdown **Development Stage**:\n",
        "#@markdown Set it `False` during production or final stage.\n",
        "#@markdown When it set to `True`, this will train on less data \n",
        "#@markdown to reduce training time in development stage.\n",
        "_is_development_stage = False #@param {type:\"boolean\"}\n",
        "\n",
        "#@markdown **Active Initial Training Stage**:\n",
        "#@markdown When it is `True`, then `Initial Training` will be happen.\n",
        "#@markdown It sould be active at the first time training, later only  \n",
        "#@markdown `Resume Training` should be active for repeatative training epochs.\n",
        "_is_active_initial_training_stage = False #@param {type:\"boolean\"}\n",
        "#@markdown ---\n",
        "#@markdown **Resume Training**:\n",
        "#@markdown When it is `True`, then `Resume Training` will be happen.\n",
        "_is_resume_training_stage = False #@param {type:\"boolean\"}\n",
        "#@markdown ---\n",
        "#@markdown **Evaluation Active**:\n",
        "#@markdown When it is `True`, then `Evaluation` will be happen.\n",
        "_is_active_evaluation_stage = True #@param {type:\"boolean\"}\n",
        "#@markdown ---\n",
        "#@markdown **Google Drive Related**:\n",
        "#@markdown Using google drive is suitable than local machine\n",
        "#@markdown because it takes less time to move arround files.\n",
        "_save_models_to_google_drive = False #@param {type:\"boolean\"}\n",
        "_load_models_from_google_drive = True #@param {type:\"boolean\"}\n",
        "_save_logs_to_google_drive = True #@param {type:\"boolean\"}\n",
        "_use_dataset_from_google_drive = False #@param {type:\"boolean\"}\n",
        "_use_dataset_file_names_from_google_drive = False #@param {type:\"boolean\"}\n",
        "_save_colab_dataset_to_google_drive = False #@param {type:\"boolean\"}\n",
        "#@markdown **Google Drive Path**:\n",
        "#@markdown Give a valid `Path` by selecting or editing.\n",
        "#@markdown Make sure path exist on google drive.\n",
        "_google_drive_models_path = 'MyDrive/ML/concrete-crack-detection/models' #@param [\"MyDrive/ML/concrete-crack-detection/models\", \"MyDrive/academic/research/concrete-crack-detection/models\"] {allow-input: true}\n",
        "_google_drive_logs_path = 'MyDrive/ML/concrete-crack-detection/SDNET2018-eval-logs' #@param [\"MyDrive/ML/concrete-crack-detection/logs\", \"MyDrive/academic/research/concrete-crack-detection/logs\"] {allow-input: true}\n",
        "_google_drive_dataset_path = 'MyDrive/ML/concrete-crack-detection/data' #@param [\"MyDrive/ML/concrete-crack-detection/data\", \"MyDrive/academic/research/concrete-crack-detection/data\"] {allow-input: true}\n",
        "_google_drive_dataset_file_names_json_file_path = 'MyDrive/ML/concrete-crack-detection/data/file-names' #@param [\"MyDrive/ML/concrete-crack-detection/data/file-names\", \"MyDrive/academic/research/concrete-crack-detection/data/dataset_dict.json\"] {allow-input: true}\n",
        "#@markdown ---\n",
        "\n",
        "#@markdown **Local Computer Related**:\n",
        "#@markdown Using local computer is not easy as google drive,\n",
        "#@markdown because it takes more time to move arround files.\n",
        "_download_saved_models_to_local_machine = False #@param {type:\"boolean\"}\n",
        "_upload_saved_models_from_local_machine = False #@param {type:\"boolean\"}\n",
        "#@markdown ---\n",
        "\n",
        "#@markdown #### **Number of Training Epochs**\n",
        "#@markdown Initial trainig epochs only be used first time model train.\n",
        "#@markdown Then the initial trained models checkpoint will be saved for\n",
        "#@markdown later training starting from last epochs (Resume Training).\n",
        "_initial_trainig_epochs =  1 #@param {type:\"slider\", min:1, max:100, step:1}\n",
        "\n",
        "#@markdown Resume trainig epochs will be used to train resume trainig from\n",
        "#@markdown the previous trained models checkpoint, and after finishing this\n",
        "#@markdown training it will save current models checkpoint \n",
        "#@markdown again for later Resume Training.\n",
        "_resume_trainig_epochs = 1 #@param {type:\"slider\", min:1, max:100, step:1}\n",
        "#@markdown ---\n",
        "#@markdown #### **Batch Size**\n",
        "#@markdown It will be used during load data and training.\n",
        "#@markdown If there found memory limitation try to reduce it.\n",
        "_batch_size = \"128\" #@param [128, 64, 32, 16]\n",
        "#@markdown ---\n",
        "#@markdown #### **Clear Google Colab** content directory\n",
        "#@markdown If it is `True` some files will be removed from colab\n",
        "#@markdown which are generated previous times. Example: logs, data, models etc\n",
        "_clean_colab_unwanted_files = False #@param {type:\"boolean\"}\n",
        "#@markdown ---\n",
        "#@markdown #### **Kaggle API**\n",
        "#@markdown If it is `True` credentials file from kaggle api required named `kaggle.json`\n",
        "_use_kaggle_api = True #@param {type:\"boolean\"}\n",
        "_use_kaggle_cred_from_drive = True #@param {type:\"boolean\"}\n",
        "_google_drive_kaggle_cred_file_path = \"MyDrive/ML/credentials/kaggle/kaggle.json\" #@param [\"MyDrive/ML/credentials/kaggle/kaggle.json\"] {allow-input: true}\n",
        "#@markdown ---\n",
        "\n",
        "#@markdown **Kaggle Dataset**:\n",
        "#@markdown Give a valid `URL` and 'file name' by selecting or editing.\n",
        "#@markdown Make sure URL exist on kaggle.\n",
        "_kaggle_dataset_url = 'aniruddhsharma/structural-defects-network-concrete-crack-images' #@param [] {allow-input: true}\n",
        "_kaggle_dataset_ziped_file_name = 'structural-defects-network-concrete-crack-images.zip' #@param [] {allow-input: true}\n",
        "_kaggle_dataset_unziped_dirname = \"Walls\" #@param [] {allow-input: true}\n",
        "#@markdown ---\n"
      ],
      "metadata": {
        "cellView": "form",
        "id": "AS4cXIDTNFwA"
      },
      "execution_count": null,
      "outputs": []
    },
    {
      "cell_type": "code",
      "source": [
        "# This is for reducing train and test time during code testing or development stage\n",
        "# Make it False in finela stage\n",
        "DEVELOPMENT_STAGE = _is_development_stage\n",
        "\n",
        "# It sould be active at the first time training, later only  \n",
        "# `Resume Training` should be active for repeatative training epochs.\n",
        "ACTIVE_INITIAL_TRAINING_STAGE = _is_active_initial_training_stage\n",
        "\n",
        "# If its True then Resume Training will be happen.\n",
        "RESUME_TRAINING_STAGE = _is_resume_training_stage\n",
        "\n",
        "# If this is True, it will evaluate models and create history logs\n",
        "ACTIVE_EVALUATION_STAGE = _is_active_evaluation_stage\n",
        "\n",
        "# Google Drive path\n",
        "SAVE_MODELS_TO_GOOGLE_DRIVE = _save_models_to_google_drive\n",
        "GOOGLE_DRIVE_MODELS_PATH = _google_drive_models_path\n",
        "LOAD_MODELS_FROM_GOOGLE_DRIVE = _load_models_from_google_drive\n",
        "SAVE_LOGS_TO_GOOGLE_DRIVE = _save_logs_to_google_drive\n",
        "GOOGLE_DRIVE_LOGS_PATH = _google_drive_logs_path\n",
        "LOAD_DATASET_FROM_GOOGLE_DRIVE = _use_dataset_from_google_drive\n",
        "GOOGLE_DRIVE_DATASET_PATH = _google_drive_dataset_path\n",
        "SAVE_COLAB_DATASET_TO_GOOGLE_DRIVE = _save_colab_dataset_to_google_drive\n",
        "USE_DATASET_FILE_NAMES_FROM_GOOGLE_DRIVE = _use_dataset_file_names_from_google_drive\n",
        "GOOGLE_DRIVE_DATASET_FILE_NAMES_PATH = _google_drive_dataset_file_names_json_file_path\n",
        "\n",
        "# Kaggle API\n",
        "USE_KAGGLE_API = _use_kaggle_api\n",
        "USE_KAGGLE_CRED_FILE_FROM_GOOGLE_DRIVE = _use_kaggle_cred_from_drive\n",
        "GOOGLE_DRIVE_KAGGLE_CRED_FILE_PATH = _google_drive_kaggle_cred_file_path\n",
        "\n",
        "# Download Saved Models to Local Machine\n",
        "DOWNLOAD_SAVED_MODELS_LOCALY = _download_saved_models_to_local_machine\n",
        "\n",
        "# Load Saved Models from Local Machine\n",
        "LOAD_MODELS_FROM_LOCAL = _upload_saved_models_from_local_machine\n",
        "\n",
        "# Trainig and Validation EPOCHS\n",
        "INITIAL_TRAINING_EPOCHS = _initial_trainig_epochs\n",
        "RESUME_TRAINING_EPOCHS = _resume_trainig_epochs\n",
        "\n",
        "# Batch Size\n",
        "BATCH_SIZE = int(_batch_size)\n",
        "\n",
        "# Dataset Directory Name\n",
        "DATASET_DIRNAME = 'data'\n",
        "\n",
        "# This is the root directory of dataset\n",
        "# this path can be changed \n",
        "# i.e when using mounted google drive dataset this path will be updated\n",
        "DATASET_PATH = Path('data')\n",
        "\n",
        "# Logs Directory Name\n",
        "LOGS_DIRNAME = 'logs'\n",
        "\n",
        "# Models Directory Name in Colab\n",
        "MODELS_DIRNAME_COLAB = 'models'\n",
        "\n",
        "# Clear Colab by removing previous files/folder\n",
        "CLEAN_COLAB = _clean_colab_unwanted_files\n",
        "\n",
        "# kaggle dataset\n",
        "KAGGLE_DATASET_URL = _kaggle_dataset_url\n",
        "KAGGLE_DATASET_ZIPED_FILE_NAME = _kaggle_dataset_ziped_file_name\n",
        "KAGGLE_DATASET_UNZIPED_DIR_NAME = _kaggle_dataset_unziped_dirname"
      ],
      "metadata": {
        "id": "1cO2tdoeNf2h"
      },
      "execution_count": null,
      "outputs": []
    },
    {
      "cell_type": "markdown",
      "metadata": {
        "id": "W1KlOcOxQEsE"
      },
      "source": [
        "## Mount Google Drive (If Required) and Validate Config"
      ]
    },
    {
      "cell_type": "code",
      "metadata": {
        "id": "JNXO6EP4YS0B"
      },
      "source": [
        "# Google Drive Mount Directory Name\n",
        "GOOGLE_DRIVE_MOUNTED_DIRNAME = 'gdrive'"
      ],
      "execution_count": null,
      "outputs": []
    },
    {
      "cell_type": "code",
      "metadata": {
        "colab": {
          "base_uri": "https://localhost:8080/"
        },
        "id": "ggv8abGuA_9r",
        "outputId": "02f9a177-0a07-45b8-b6e2-7a39384504de"
      },
      "source": [
        "# If there need to access Google Drive Mount at Google Drive\n",
        "if SAVE_MODELS_TO_GOOGLE_DRIVE or \\\n",
        "  LOAD_MODELS_FROM_GOOGLE_DRIVE or \\\n",
        "  SAVE_LOGS_TO_GOOGLE_DRIVE or \\\n",
        "  LOAD_DATASET_FROM_GOOGLE_DRIVE or\\\n",
        "  USE_DATASET_FILE_NAMES_FROM_GOOGLE_DRIVE or \\\n",
        "  USE_KAGGLE_CRED_FILE_FROM_GOOGLE_DRIVE:\n",
        "  from google.colab import drive\n",
        "  drive.mount(GOOGLE_DRIVE_MOUNTED_DIRNAME)"
      ],
      "execution_count": null,
      "outputs": [
        {
          "output_type": "stream",
          "name": "stdout",
          "text": [
            "Mounted at gdrive\n"
          ]
        }
      ]
    },
    {
      "cell_type": "code",
      "metadata": {
        "id": "nSNlnjfeYwUP"
      },
      "source": [
        "# Now Validate Some User Given Drive Path\n",
        "if SAVE_MODELS_TO_GOOGLE_DRIVE or LOAD_MODELS_FROM_GOOGLE_DRIVE:\n",
        "  _gdrive_path = Path(GOOGLE_DRIVE_MOUNTED_DIRNAME)/ GOOGLE_DRIVE_MODELS_PATH\n",
        "  if not os.path.exists(_gdrive_path):\n",
        "    raise Exception(f\"Google Drive Path '{_gdrive_path}' does not exist\")\n",
        "if SAVE_LOGS_TO_GOOGLE_DRIVE:\n",
        "  _gdrive_path = Path(GOOGLE_DRIVE_MOUNTED_DIRNAME)/ GOOGLE_DRIVE_LOGS_PATH\n",
        "  if not os.path.exists(_gdrive_path):\n",
        "    raise Exception(f\"Google Drive Path '{_gdrive_path}' does not exist\")\n",
        "if LOAD_DATASET_FROM_GOOGLE_DRIVE:\n",
        "  _gdrive_path = Path(GOOGLE_DRIVE_MOUNTED_DIRNAME)/ GOOGLE_DRIVE_DATASET_PATH\n",
        "  if not os.path.exists(_gdrive_path):\n",
        "    raise Exception(f\"Google Drive Path '{_gdrive_path}' does not exist\")\n",
        "  \n",
        "  # Update DATASET_PATH path so that data use from mounted gdrive\n",
        "  DATASET_PATH = Path(GOOGLE_DRIVE_MOUNTED_DIRNAME)/ f\"{GOOGLE_DRIVE_DATASET_PATH}\"\n",
        "\n",
        "# if USE_DATASET_FILE_NAMES_FROM_GOOGLE_DRIVE is True then \n",
        "if USE_DATASET_FILE_NAMES_FROM_GOOGLE_DRIVE:\n",
        "  _gdrive_path = Path(GOOGLE_DRIVE_MOUNTED_DIRNAME)/ GOOGLE_DRIVE_DATASET_FILE_NAMES_PATH\n",
        "  if not os.path.exists(_gdrive_path):\n",
        "    raise Exception(f\"Google Drive Path '{_gdrive_path}' does not exist\")\n",
        "  \n",
        "  # use only one dataset\n",
        "  # so set false to LOAD_DATASET_FROM_GOOGLE_DRIVE\n",
        "  if LOAD_DATASET_FROM_GOOGLE_DRIVE:\n",
        "    LOAD_DATASET_FROM_GOOGLE_DRIVE = False\n",
        "    DATASET_PATH = DATASET_DIRNAME\n",
        "\n",
        "\n",
        "# Kaggle\n",
        "if USE_KAGGLE_API and USE_KAGGLE_CRED_FILE_FROM_GOOGLE_DRIVE:\n",
        "  _gdrive_path = Path(GOOGLE_DRIVE_MOUNTED_DIRNAME)/ GOOGLE_DRIVE_KAGGLE_CRED_FILE_PATH\n",
        "  if not os.path.exists(_gdrive_path):\n",
        "    raise Exception(f\"Google Drive Path '{_gdrive_path}' does not exist\")\n",
        "  \n",
        "  if not (GOOGLE_DRIVE_KAGGLE_CRED_FILE_PATH.split('/')[-1] == 'kaggle.json'):\n",
        "    raise Exception(f\"File 'kaggle.json' does not exist at '{_gdrive_path}'\")\n"
      ],
      "execution_count": null,
      "outputs": []
    },
    {
      "cell_type": "markdown",
      "metadata": {
        "id": "v3EvviU3U6qh"
      },
      "source": [
        "## Kaggle API"
      ]
    },
    {
      "cell_type": "code",
      "metadata": {
        "colab": {
          "base_uri": "https://localhost:8080/"
        },
        "id": "WMhVhJknU_F5",
        "outputId": "fbde000c-45af-4630-ed43-95c809803a7f"
      },
      "source": [
        "# Kaggle\n",
        "if USE_KAGGLE_API:\n",
        "  _root_kaggle_dir = \"/root/.kaggle\"\n",
        "  if USE_KAGGLE_CRED_FILE_FROM_GOOGLE_DRIVE:\n",
        "    if not os.path.exists(_root_kaggle_dir):\n",
        "      print(f\"{_root_kaggle_dir} does not exists. Trying to create.\")\n",
        "      try:\n",
        "        os.makedirs(_root_kaggle_dir, exist_ok=True)\n",
        "        print(f\"Path: {_root_kaggle_dir} created.\")\n",
        "      except Exception as e:\n",
        "        print(f\"Path cration: {_root_kaggle_dir} failed.\")\n",
        "        raise e\n",
        "      \n",
        "      # copy kaggle.json to '~/.kaggle/'\n",
        "      try:\n",
        "        os.system(f\"cp {Path(GOOGLE_DRIVE_MOUNTED_DIRNAME)/ GOOGLE_DRIVE_KAGGLE_CRED_FILE_PATH} {_root_kaggle_dir}\")\n",
        "        print(f\"kaggle.json copied to {_root_kaggle_dir}\")\n",
        "        print(f\"List inside {_root_kaggle_dir}:\", *os.listdir(_root_kaggle_dir), sep='\\n')\n",
        "      except Exception as e:\n",
        "        print(f\"kaggle.json copy failed to {_root_kaggle_dir}\")\n",
        "        print(f\"List inside {_root_kaggle_dir}:\", *os.listdir(_root_kaggle_dir), sep='\\n')\n",
        "        raise e\n",
        "  else:\n",
        "    # if file does not exist in that '~/.kagle' directory\n",
        "    # request for upload a kaggle.json file\n",
        "    if not os.path.exists(f'{_root_kaggle_dir}/kaggle.json'):\n",
        "      from google.colab import files\n",
        "      print(\"Please Upload Kaggle API credential 'kaggle.json' file:\")\n",
        "      uploaded_kaggle_cred_file = files.upload()\n",
        "\n",
        "      if not os.path.exists(_root_kaggle_dir):\n",
        "        print(f\"{_root_kaggle_dir} does not exists. Trying to create.\")\n",
        "        try:\n",
        "          os.makedirs(_root_kaggle_dir, exist_ok=True)\n",
        "          print(f\"Path: {_root_kaggle_dir} created.\")\n",
        "        except Exception as e:\n",
        "          print(f\"Path cration: {_root_kaggle_dir} failed.\")\n",
        "          raise e\n",
        "\n",
        "      # now move the kaggle.json file to  '~/.kagle' directory\n",
        "      try:\n",
        "        os.system(f\"cp kaggle.json {_root_kaggle_dir}\")\n",
        "      except Exception as e:\n",
        "        raise e\n",
        "  # finaly change the chmod of the kaggle.json file\n",
        "  try:\n",
        "    os.system(f\"chmod 600 {_root_kaggle_dir}/kaggle.json\")\n",
        "  except Exception as e:\n",
        "    raise e\n",
        "  \n",
        "  print(f\"List inside {_root_kaggle_dir}:\", *os.listdir(f\"{_root_kaggle_dir}\"), sep='\\n')"
      ],
      "execution_count": null,
      "outputs": [
        {
          "output_type": "stream",
          "name": "stdout",
          "text": [
            "/root/.kaggle does not exists. Trying to create.\n",
            "Path: /root/.kaggle created.\n",
            "kaggle.json copied to /root/.kaggle\n",
            "List inside /root/.kaggle:\n",
            "kaggle.json\n",
            "List inside /root/.kaggle:\n",
            "kaggle.json\n"
          ]
        }
      ]
    },
    {
      "cell_type": "code",
      "metadata": {
        "colab": {
          "base_uri": "https://localhost:8080/"
        },
        "id": "kDMURb9WTFVP",
        "outputId": "1af73855-ba43-4974-bf81-69e16e77b4e6"
      },
      "source": [
        "# now try to import kaggle\n",
        "try:\n",
        "    import kaggle\n",
        "except Exception as e:\n",
        "  print(f\"Exception: {e}\")\n",
        "  print(\"Tring to install kaggle\")\n",
        "  os.system(f\"pip -q install kaggle\")\n",
        "  try:\n",
        "    import kaggle\n",
        "  except Exception as e:\n",
        "    raise e\n",
        "print(\"kaggle imported\")"
      ],
      "execution_count": null,
      "outputs": [
        {
          "output_type": "stream",
          "name": "stdout",
          "text": [
            "kaggle imported\n"
          ]
        }
      ]
    },
    {
      "cell_type": "markdown",
      "metadata": {
        "id": "0BP6KJBSR0Ve"
      },
      "source": [
        "## Device (CPU, GPU, TPU)"
      ]
    },
    {
      "cell_type": "code",
      "metadata": {
        "colab": {
          "base_uri": "https://localhost:8080/"
        },
        "id": "2gUg5wpsR9jY",
        "outputId": "35f3d7ab-75f7-45b9-ab63-78f2bb7b0820"
      },
      "source": [
        "# Use GPU if available\n",
        "device = torch.device(\"cuda:0\" if torch.cuda.is_available() else \"cpu\")\n",
        "print(device)"
      ],
      "execution_count": null,
      "outputs": [
        {
          "output_type": "stream",
          "name": "stdout",
          "text": [
            "cuda:0\n"
          ]
        }
      ]
    },
    {
      "cell_type": "markdown",
      "metadata": {
        "id": "VxsM-tRTNY3U"
      },
      "source": [
        "## Useful Functions"
      ]
    },
    {
      "cell_type": "code",
      "metadata": {
        "id": "msZs6xogNjl6"
      },
      "source": [
        "# It will print tree of a directory with optional files path\n",
        "def tree_printer(root, show_files=False):\n",
        "  for root, dirs, files in os.walk(root):\n",
        "    for d in dirs:\n",
        "      print(os.path.join(root, d))\n",
        "    if show_files:\n",
        "      for f in files:\n",
        "        print(os.path.join(root, f))"
      ],
      "execution_count": null,
      "outputs": []
    },
    {
      "cell_type": "code",
      "metadata": {
        "id": "osUmxCI5rVe0"
      },
      "source": [
        "# A utility function for copying files and directory\n",
        "def copytree(src, dst, symlinks = False, ignore = None):\n",
        "  \"\"\"\n",
        "  - Same behavior as shutil.copytree, with symlinks and ignore parameters\n",
        "  - Create directory destination structure if non existant\n",
        "  - Will not fail if dst already exists\n",
        "  Details: https://stackoverflow.com/a/22331852/8520849\n",
        "  \"\"\"\n",
        "  if not os.path.exists(dst):\n",
        "    os.makedirs(dst)\n",
        "    shutil.copystat(src, dst)\n",
        "  lst = os.listdir(src)\n",
        "  if ignore:\n",
        "    excl = ignore(src, lst)\n",
        "    lst = [x for x in lst if x not in excl]\n",
        "  for item in lst:\n",
        "    s = os.path.join(src, item)\n",
        "    d = os.path.join(dst, item)\n",
        "    if symlinks and os.path.islink(s):\n",
        "      if os.path.lexists(d):\n",
        "        os.remove(d)\n",
        "      os.symlink(os.readlink(s), d)\n",
        "      try:\n",
        "        st = os.lstat(s)\n",
        "        mode = stat.S_IMODE(st.st_mode)\n",
        "        os.lchmod(d, mode)\n",
        "      except:\n",
        "        pass # lchmod not available\n",
        "    elif os.path.isdir(s):\n",
        "      copytree(s, d, symlinks, ignore)\n",
        "    else:\n",
        "      shutil.copy2(s, d)"
      ],
      "execution_count": null,
      "outputs": []
    },
    {
      "cell_type": "code",
      "metadata": {
        "id": "7mzvtzB6t6T-"
      },
      "source": [
        "def generate_file_name(*args, extension=None, sep='-', add_date=True):\n",
        "  args = [str(item) for item in args]\n",
        "  name = f'{sep}'.join(args)\n",
        "  if add_date:\n",
        "    from datetime import datetime\n",
        "    str_f_time = '%m_%d_%Y_%H_%M_%S' if not (sep=='_') else '%m-%d-%Y-%H-%M-%S'\n",
        "    name = name + f\"{sep if name else ''}{datetime.now().strftime(str_f_time)}\"\n",
        "  if extension:\n",
        "    name = name + extension if extension[0] == '.' else name + '.' + extension\n",
        "  return name\n",
        "\n",
        "# print(generate_file_name(*list(range(10)), extension='d', sep='_', add_date=True))"
      ],
      "execution_count": null,
      "outputs": []
    },
    {
      "cell_type": "markdown",
      "metadata": {
        "id": "j1mIjYKqsY9O"
      },
      "source": [
        "# Dounload and Prepare Dataset"
      ]
    },
    {
      "cell_type": "markdown",
      "source": [
        "## Dataset configurations"
      ],
      "metadata": {
        "id": "dcSrJwcS4zaT"
      }
    },
    {
      "cell_type": "code",
      "metadata": {
        "id": "16wVkHkOZwf4"
      },
      "source": [
        "# dataset classes and labels\n",
        "CLASSES = {\n",
        "    # '<class label name>': ('<dataset class dirname>', '<class title label>', <Y Label>)\n",
        "    'crack': ('Cracked', 'Crack', 0),\n",
        "    'noncrack': ('Non-cracked', 'Noncrack', 1),\n",
        "}\n",
        "\n",
        "SPLIT_SET = {\n",
        "    # '<set label>': ('<set dirname>', '<set title>')\n",
        "    # 'train': ('train', 'Train'),\n",
        "    'test': ('test', 'Test'),\n",
        "}\n",
        "\n",
        "SPLIT_RATIO = {\n",
        "    # '<set label>': <parcentage over whole dataset>\n",
        "    'test': 1.00,\n",
        "}\n",
        "# crack = 3851\n",
        "# noncrack = 14.3k\n",
        "\n",
        "# at least this number of file exist in every class\n",
        "SAFE_MAX = 3851\n",
        "\n",
        "BALANCED_NUMBERS = {\n",
        "    # '<class label name>': (<number of files exists>, <number of files for dataset>)\n",
        "    'crack': (3851, SAFE_MAX),\n",
        "    'noncrack': (14000, SAFE_MAX+4),\n",
        "}\n",
        "RAW_DATASET_DIRNAME = KAGGLE_DATASET_UNZIPED_DIR_NAME\n",
        "\n",
        "# set the number of classes\n",
        "K = len(CLASSES)"
      ],
      "execution_count": null,
      "outputs": []
    },
    {
      "cell_type": "markdown",
      "metadata": {
        "id": "OA1K-eL0sj0R"
      },
      "source": [
        "## Kaggle Dataset"
      ]
    },
    {
      "cell_type": "code",
      "metadata": {
        "colab": {
          "base_uri": "https://localhost:8080/"
        },
        "id": "Agt7WZmLshRi",
        "outputId": "f48b7d8f-f2c4-4476-e07d-b70ab5486f3e"
      },
      "source": [
        "# ! kaggle datasets download <name-of-dataset>\n",
        "# ! kaggle datasets download aniruddhsharma/structural-defects-network-concrete-crack-images\n",
        "if USE_KAGGLE_API:\n",
        "  _kaggle_dataset_name = KAGGLE_DATASET_URL\n",
        "  try:\n",
        "    os.system(f\"kaggle datasets download {_kaggle_dataset_name}\")\n",
        "  except Exception as e:\n",
        "    raise e\n",
        "  \n",
        "  print(*os.listdir('.'), sep='\\n')\n"
      ],
      "execution_count": null,
      "outputs": [
        {
          "output_type": "stream",
          "name": "stdout",
          "text": [
            ".config\n",
            "gdrive\n",
            "structural-defects-network-concrete-crack-images.zip\n",
            "sample_data\n"
          ]
        }
      ]
    },
    {
      "cell_type": "markdown",
      "metadata": {
        "id": "qElZ95dEZ26y"
      },
      "source": [
        "## Dataset Utils"
      ]
    },
    {
      "cell_type": "code",
      "metadata": {
        "id": "Kr74AhPl1Ux8"
      },
      "source": [
        "def unzip_dataset(ziped_dataset_path, unziped_dataset_dirname=RAW_DATASET_DIRNAME):\n",
        "  # remove DATASET_DIRNAME dir if already there and recreate it\n",
        "  try:\n",
        "    os.system(f\"rm -r {unziped_dataset_dirname}\")\n",
        "  except Exception as e:\n",
        "    pass\n",
        "  # os.makedirs('data', exist_ok=True)\n",
        "\n",
        "  if os.path.exists(ziped_dataset_path):\n",
        "    try:\n",
        "      print(f\"Unizipping '{ziped_dataset_path}' dataset\")\n",
        "      os.system(f\"unzip -qq -o {ziped_dataset_path}\")\n",
        "    except Exception as e:\n",
        "      print(f\"Failed: Unizipping '{ziped_dataset_path}' dataset\")\n",
        "      raise e\n",
        "  else:\n",
        "    print(f\"Dataset zip file '{ziped_dataset_path}' not found!\")\n",
        "  \n",
        "  print(f\"List inside {unziped_dataset_dirname}:\", *os.listdir(unziped_dataset_dirname), sep='\\n')\n",
        "\n",
        "\n",
        "# generate dataset according to ratio and criterion by moving files from src_dir\n",
        "def generate_dataset(src_dir, dst_dir, CLASSES=CLASSES, SPLIT_SET=SPLIT_SET, \n",
        "                     SPLIT_RATIO=SPLIT_RATIO, BALANCED_NUMBERS=BALANCED_NUMBERS,\n",
        "                     LOAD_FROM_DASET_DICT=False, DATASET_DICT=None, \n",
        "                     clear_dst_dir=False,\n",
        "                     unzip_src_dataset=True,\n",
        "                     ziped_src_dataset_path=None,\n",
        "                     remove_src_dir=True):\n",
        "  \"\"\"\n",
        "  Generate dataset according to ratio and criterion by moving files from src_dir\n",
        "  \"\"\"\n",
        "  if unzip_src_dataset and (not ziped_src_dataset_path):\n",
        "    raise Exception(f\"Invalid Arguments: unzip_src_dataset is setted to '{unzip_src_dataset}' but ziped_src_dataset_path is None!\")\n",
        "\n",
        "  if not os.path.exists(src_dir):\n",
        "    if unzip_src_dataset:\n",
        "      print(\"Unizipping Dataset...\")\n",
        "      unzip_dataset(ziped_src_dataset_path)\n",
        "      print(\"Unizipping completed.\")\n",
        "    if not os.path.exists(src_dir):\n",
        "      raise Exception(f\"src_dir: '{src_dir}' invalid!\")\n",
        "  else:\n",
        "    if unzip_src_dataset:\n",
        "      print(\"Unizipping Dataset...\")\n",
        "      unzip_dataset(ziped_src_dataset_path)\n",
        "      print(\"Unizipping completed.\")\n",
        "    if not os.path.exists(src_dir):\n",
        "      raise Exception(f\"src_dir: '{src_dir}' invalid!\")\n",
        "  \n",
        "  if not os.path.exists(dst_dir):\n",
        "    # try to create this dst_dir\n",
        "    try:\n",
        "      os.makedirs(Path(dst_dir), exist_ok=True)\n",
        "    except Exception as e:\n",
        "      print(f\"dst_dir: '{dst_dir}' invalid!\")\n",
        "      raise e\n",
        "  elif clear_dst_dir:\n",
        "    # try to clear and re-create the dst_dir\n",
        "    try:\n",
        "      os.system(f\"rm -r {Path(dst_dir)}\")\n",
        "      os.makedirs(Path(dst_dir), exist_ok=True)\n",
        "    except Exception as e:\n",
        "      print(f\"dst_dir: '{dst_dir}' invalid!\")\n",
        "      raise e\n",
        "\n",
        "\n",
        "  # make dst tree\n",
        "  for split_set_name in SPLIT_SET.keys():\n",
        "    try:\n",
        "      os.makedirs(Path(dst_dir)/split_set_name, exist_ok=True)\n",
        "      for klass_dir_name in CLASSES.keys():\n",
        "        try:\n",
        "          os.makedirs(Path(dst_dir)/split_set_name/klass_dir_name, exist_ok=True)\n",
        "        except OSError as e:\n",
        "          raise e\n",
        "    except OSError as e:\n",
        "      raise e\n",
        "\n",
        "  if LOAD_FROM_DASET_DICT and isinstance(DATASET_DICT, dict):\n",
        "    for split_set_name in SPLIT_SET.keys():\n",
        "      curr_set_cnt = 0\n",
        "      for klass_key, (src_klass_dir_name, _, _) in CLASSES.items():\n",
        "        for f in DATASET_DICT[split_set_name][klass_key]:\n",
        "          try:\n",
        "            shutil.move(str(Path(src_dir)/src_klass_dir_name/f), \n",
        "                          str(Path(dst_dir)/split_set_name/klass_key))\n",
        "            curr_set_cnt += 1\n",
        "          except Exception as e:\n",
        "            raise e\n",
        "        \n",
        "        print(f\"Moved {len(list(os.listdir(Path(dst_dir)/split_set_name/klass_key)))} \\\n",
        "        (target {len(DATASET_DICT[split_set_name][klass_key])}) \\\n",
        "        files at '{Path(dst_dir)/split_set_name/klass_key}', \\\n",
        "        from '{Path(src_dir)/src_klass_dir_name}'.\")\n",
        "    \n",
        "      # print split set summary\n",
        "      print(f\"Total ({split_set_name} set): {curr_set_cnt}\")\n",
        "\n",
        "    # remove src_dir\n",
        "    if remove_src_dir:\n",
        "      try:\n",
        "        os.system(f\"rm -r {src_dir}\")\n",
        "      except Exception as e:\n",
        "        pass\n",
        "    \n",
        "    return\n",
        "  \n",
        "  # generate summary of files\n",
        "  dataset_dict = {}\n",
        "\n",
        "  # move files according to ratio and classes\n",
        "  for split_set_name, ratio in SPLIT_RATIO.items():\n",
        "    dataset_dict[split_set_name] = {k:[] for k in CLASSES.keys()}\n",
        "    curr_set_cnt = 0\n",
        "    for klass_key, (src_klass_dir_name, _, _) in CLASSES.items():\n",
        "      src_files = list(os.listdir(Path(src_dir)/src_klass_dir_name))\n",
        "      src_n = len(src_files)\n",
        "      target_n = int(BALANCED_NUMBERS[klass_key][1] * ratio)\n",
        "      \n",
        "      counter = 0\n",
        "      for f in src_files:\n",
        "        if counter <= target_n and random.random() <= ratio:\n",
        "          try:\n",
        "            shutil.move(str(Path(src_dir)/src_klass_dir_name/f), \n",
        "                        str(Path(dst_dir)/split_set_name/klass_key))\n",
        "            counter += 1\n",
        "            curr_set_cnt += 1\n",
        "          except Exception as e:\n",
        "            raise e\n",
        "      \n",
        "      src_files = list(os.listdir(Path(src_dir)/src_klass_dir_name))\n",
        "      src_n = len(src_files)\n",
        "      if (src_n >= (target_n - counter)) and ((target_n - counter) > 0):\n",
        "        random.shuffle(src_files)\n",
        "        for f in src_files[:(target_n - counter)]:\n",
        "          try:\n",
        "            shutil.move(str(Path(src_dir)/src_klass_dir_name/f), \n",
        "                        str(Path(dst_dir)/split_set_name/klass_key))\n",
        "            curr_set_cnt += 1\n",
        "          except Exception as e:\n",
        "            raise e\n",
        "\n",
        "      # store summary\n",
        "      dataset_dict[split_set_name][klass_key] = \\\n",
        "                list(os.listdir(Path(dst_dir)/split_set_name/klass_key))\n",
        "      print(f\"Moved {len(dataset_dict[split_set_name][klass_key])} \\\n",
        "      (target {target_n}) \\\n",
        "      files at '{Path(dst_dir)/split_set_name/klass_key}', \\\n",
        "      from '{Path(src_dir)/src_klass_dir_name}'.\")\n",
        "    \n",
        "    # print split set summary\n",
        "    print(f\"Total ({split_set_name} set): {curr_set_cnt}\")\n",
        "\n",
        "  # remove src_dir\n",
        "  if remove_src_dir:\n",
        "    try:\n",
        "      os.system(f\"rm -r {src_dir}\")\n",
        "    except Exception as e:\n",
        "      pass\n",
        "\n",
        "  return dataset_dict  "
      ],
      "execution_count": null,
      "outputs": []
    },
    {
      "cell_type": "markdown",
      "metadata": {
        "id": "iA3dp_GodvR3"
      },
      "source": [
        "## Prepare Dataset"
      ]
    },
    {
      "cell_type": "markdown",
      "metadata": {
        "id": "7PHcRSFWBYJt"
      },
      "source": [
        "**data directory**\n",
        "\n",
        "```\n",
        "data\n",
        "|____train\n",
        "|       |_<clssses>\n",
        "|____test\n",
        "|       |_<clssses>\n",
        "|____val\n",
        "|       |_<clssses>\n",
        "```"
      ]
    },
    {
      "cell_type": "code",
      "metadata": {
        "colab": {
          "base_uri": "https://localhost:8080/"
        },
        "id": "3gMaCzFzFYQb",
        "outputId": "04e043f8-46c8-4cd6-cd95-bbb1bc5488c7"
      },
      "source": [
        "if USE_KAGGLE_API:\n",
        "  if USE_DATASET_FILE_NAMES_FROM_GOOGLE_DRIVE:\n",
        "    gdrive_dataset_dict_json_file_path  = Path(GOOGLE_DRIVE_MOUNTED_DIRNAME) / GOOGLE_DRIVE_DATASET_FILE_NAMES_PATH\n",
        "    with open(gdrive_dataset_dict_json_file_path, 'r') as json_file:\n",
        "      dataset_dict = json.load(json_file)\n",
        "      generate_dataset(src_dir=RAW_DATASET_DIRNAME, \n",
        "                      dst_dir=DATASET_DIRNAME,\n",
        "                      LOAD_FROM_DASET_DICT=True, \n",
        "                      DATASET_DICT=dataset_dict,\n",
        "                      clear_dst_dir=True,\n",
        "                      unzip_src_dataset=True,\n",
        "                      ziped_src_dataset_path=KAGGLE_DATASET_ZIPED_FILE_NAME)\n",
        "  else:\n",
        "    dataset_dict = generate_dataset(src_dir=RAW_DATASET_DIRNAME, \n",
        "                                  dst_dir=DATASET_DIRNAME,\n",
        "                                  LOAD_FROM_DASET_DICT=False, \n",
        "                                  DATASET_DICT=None,\n",
        "                                  clear_dst_dir=True,\n",
        "                                  unzip_src_dataset=True,\n",
        "                                  ziped_src_dataset_path=KAGGLE_DATASET_ZIPED_FILE_NAME)\n",
        "    if dataset_dict:\n",
        "      dataset_dict_file_path = 'dataset_dict.json'\n",
        "      with open(dataset_dict_file_path, \"w\") as outfile:\n",
        "        json.dump(dataset_dict, outfile)\n",
        "  "
      ],
      "execution_count": null,
      "outputs": [
        {
          "output_type": "stream",
          "name": "stdout",
          "text": [
            "Unizipping Dataset...\n",
            "Unizipping 'structural-defects-network-concrete-crack-images.zip' dataset\n",
            "List inside Walls:\n",
            "Non-cracked\n",
            "Cracked\n",
            "Unizipping completed.\n",
            "Moved 3851       (target 3851)       files at 'data/test/crack',       from 'Walls/Cracked'.\n",
            "Moved 3856       (target 3855)       files at 'data/test/noncrack',       from 'Walls/Non-cracked'.\n",
            "Total (test set): 7707\n"
          ]
        }
      ]
    },
    {
      "cell_type": "markdown",
      "metadata": {
        "id": "18ChO4wHLZsf"
      },
      "source": [
        "### Plot Some Dataset Images"
      ]
    },
    {
      "cell_type": "code",
      "metadata": {
        "colab": {
          "base_uri": "https://localhost:8080/",
          "height": 751
        },
        "id": "6K7tUr9nhIoX",
        "outputId": "c4e9ed88-4797-454a-c641-b5897f95bed3"
      },
      "source": [
        "def plot_sample(dataset_dir=DATASET_DIRNAME, SPLIT_SET=SPLIT_SET, CLASSES=CLASSES):\n",
        "  # set color map of matplotlib\n",
        "  cmap = 'gray'\n",
        "  plt.set_cmap(cmap)\n",
        "  \n",
        "  for split_set_name in SPLIT_SET.keys():\n",
        "    i = 1\n",
        "    j = len(CLASSES.keys())\n",
        "    fig = plt.figure(num=None, figsize=(10, 5*j), dpi=80, facecolor='w', edgecolor='k', constrained_layout=False, clear=True)\n",
        "    fig.canvas.set_window_title(f'{split_set_name} set')\n",
        "    fig.suptitle(f'{SPLIT_SET[split_set_name][1]} set', fontsize=16)\n",
        "    for klass_dir_name in CLASSES.keys():\n",
        "      _images_list = os.listdir(Path(dataset_dir)/ split_set_name / klass_dir_name)\n",
        "      random_indices = np.random.randint(0, len(_images_list), size=2)\n",
        "      random_images = np.array(_images_list)[random_indices.astype(int)]\n",
        "\n",
        "      ax = fig.add_subplot(f\"{j}2{i}\")\n",
        "      ax.set_title(f\"{CLASSES[klass_dir_name][1]}\")\n",
        "      ax.imshow(mpimg.imread(f'{Path(dataset_dir)/ split_set_name /\\\n",
        "                                        klass_dir_name}/{random_images[0]}'))\n",
        "      i += 1\n",
        "      ax = fig.add_subplot(f\"{j}2{i}\")\n",
        "      ax.set_title(f\"{CLASSES[klass_dir_name][1]}\")\n",
        "      ax.imshow(mpimg.imread(f'{Path(dataset_dir)/ split_set_name /\\\n",
        "                                        klass_dir_name}/{random_images[1]}'))\n",
        "      i += 1\n",
        "    plt.show();\n",
        "\n",
        "plot_sample(dataset_dir=DATASET_DIRNAME, SPLIT_SET=SPLIT_SET, CLASSES=CLASSES)"
      ],
      "execution_count": null,
      "outputs": [
        {
          "output_type": "display_data",
          "data": {
            "text/plain": [
              "<Figure size 432x288 with 0 Axes>"
            ]
          },
          "metadata": {}
        },
        {
          "output_type": "display_data",
          "data": {
            "text/plain": [
              "<Figure size 800x800 with 4 Axes>"
            ],
            "image/png": "[encoded data removed]"
          },
          "metadata": {}
        }
      ]
    },
    {
      "cell_type": "markdown",
      "metadata": {
        "id": "3w0AXQ6RWs9k"
      },
      "source": [
        "## Augmentation, transformation and data loader\n",
        "\n"
      ]
    },
    {
      "cell_type": "markdown",
      "metadata": {
        "id": "5lh2hN7lelAl"
      },
      "source": [
        "We want to use data augmentation only on `train set`. We will not `test or validation set`.\n",
        "\n",
        "We have to resize image by `224x224` which is the expected size of our transfer learning models.\n",
        "\n",
        "All pre-trained [models](https://pytorch.org/vision/stable/models.html) expect input images normalized in the same way, i.e. mini-batches of 3-channel RGB images of shape (3 x H x W), where H and W are expected to be at least 224. The images have to be loaded in to a range of [0, 1] and then normalized using `mean` = [`0.485`, `0.456`, `0.406`] and `std` = [`0.229`, `0.224`, `0.225`].\n",
        "\n",
        "We can use the following transform to normalize:\n",
        "```\n",
        "normalize = transforms.Normalize(mean=[0.485, 0.456, 0.406],\n",
        "                                 std=[0.229, 0.224, 0.225])\n",
        "```"
      ]
    },
    {
      "cell_type": "code",
      "metadata": {
        "id": "d103oKD1a_aa"
      },
      "source": [
        "# normalize mean and std according to\n",
        "# pytorch models description https://pytorch.org/vision/stable/models.html\n",
        "norm_mean, norm_std = [0.485, 0.456, 0.406], [0.229, 0.224, 0.225]\n",
        "\n",
        "# test transformation without data augmentation\n",
        "test_transform = transforms.Compose([\n",
        "  transforms.Resize(size=224),\n",
        "  transforms.ToTensor(),\n",
        "  transforms.Normalize(mean=norm_mean, std=norm_std)\n",
        "])"
      ],
      "execution_count": null,
      "outputs": []
    },
    {
      "cell_type": "code",
      "metadata": {
        "id": "Zbj24949dpdU"
      },
      "source": [
        "_dataset_path_dir = Path(DATASET_PATH)\n",
        "\n",
        "test_dataset = datasets.ImageFolder(\n",
        "    _dataset_path_dir / 'test',\n",
        "    transform=test_transform\n",
        ")\n"
      ],
      "execution_count": null,
      "outputs": []
    },
    {
      "cell_type": "code",
      "metadata": {
        "id": "z9R_BbfSmXpD"
      },
      "source": [
        "# Data loader\n",
        "# Usefull because it automatically generates batches in the training loop\n",
        "# and takes care of shuffling\n",
        "\n",
        "batch_size = BATCH_SIZE\n",
        "\n",
        "test_loader = torch.utils.data.DataLoader(\n",
        "    dataset=test_dataset,\n",
        "    batch_size=batch_size,\n",
        "    shuffle=False\n",
        ")"
      ],
      "execution_count": null,
      "outputs": []
    },
    {
      "cell_type": "markdown",
      "metadata": {
        "id": "QPiY8ubFuCIL"
      },
      "source": [
        "## Utility Functions\n",
        "\n",
        "Some helper functions are defined in this section to reuse code and encapsulate some processes."
      ]
    },
    {
      "cell_type": "markdown",
      "metadata": {
        "id": "JkfhXJI1qdCR"
      },
      "source": [
        "### Utils for Training and Validation"
      ]
    },
    {
      "cell_type": "code",
      "metadata": {
        "id": "F25QRV7oNW-2"
      },
      "source": [
        "#@title **Evaluation Method**\n",
        "\n",
        "#@markdown  *Confusion Matrix*, *Precision*, *Recall*, *F1 Scrore*, and Validation *Accuracy* are the standard evaluation method for the classification model.\n",
        "\n",
        "#@markdown **Confusion Matrix** as the name suggests gives us a matrix as output and describes the complete performance of the model.\n",
        "\n",
        "#@markdown | Actual / Predicted| Positive               | Negetive               |\n",
        "#@markdown | :---------------- |   :-----------------:  |  :-----------------:   |\n",
        "#@markdown |  Positive         | True Positive (**TP**) | False Negetive (**FN**)|\n",
        "#@markdown |  Negetive         | False Positive (**FP**)| True Negetive (**TN**) |\n",
        "\n",
        "#@markdown **Precision** is the number of correctly identified cases among all the identified cases. \n",
        "#@markdown $$Precision, P = \\frac{TP}{TP + FP}$$\n",
        "\n",
        "#@markdown **Recall** is the number of correctly identified cases from all the positive representations. \n",
        "#@markdown $$Recall, R = \\frac{TP}{TP + FN}$$\n",
        "\n",
        "#@markdown **F1 score** is the harmonic average of precision and recall.\n",
        "#@markdown $$F1Scrore, F1 = 2\\times \\frac{P \\times R}{P + R}$$\n",
        "\n",
        "#@markdown **Accuracy** is the ratio of number of correct predictions to the total number of input sampols.\n",
        "#@markdown $$Accuracy = \\frac{Number of Correct predictions}{Total number of predictions made}$$"
      ],
      "execution_count": null,
      "outputs": []
    },
    {
      "cell_type": "code",
      "metadata": {
        "id": "hL7r8kgc45WE"
      },
      "source": [
        "# training function\n",
        "def fit(model, criterion, optimizer, dataloader, device):\n",
        "  model.train()\n",
        "  train_running_loss = 0.0\n",
        "  train_running_correct = 0\n",
        "\n",
        "  for inputs, targets in dataloader:\n",
        "    # print(f\"inputs len={len(inputs)}, inputs shape={ inputs.shape}\")\n",
        "\n",
        "    # move data to GPU\n",
        "    inputs, targets = inputs.to(device), targets.to(device)\n",
        "\n",
        "    # zero the parameter gradients\n",
        "    optimizer.zero_grad()\n",
        "\n",
        "    # Forward pass\n",
        "    outputs = model(inputs)\n",
        "    loss = criterion(outputs, targets)\n",
        "\n",
        "    # Get prediction\n",
        "    # torch.max returns both max and argmax\n",
        "    _, predictions = torch.max(outputs, 1)\n",
        "\n",
        "    # store loss and correct\n",
        "    train_running_loss += loss.item()\n",
        "    train_running_correct += (predictions == targets).sum().item()\n",
        "\n",
        "    # Backward and optimize\n",
        "    loss.backward()\n",
        "    optimizer.step()\n",
        "      \n",
        "  train_loss = train_running_loss/len(dataloader.dataset)\n",
        "  # train_accuracy = 100. * train_running_correct/len(dataloader.dataset)\n",
        "  train_accuracy = train_running_correct/len(dataloader.dataset)\n",
        "  return train_loss, train_accuracy"
      ],
      "execution_count": null,
      "outputs": []
    },
    {
      "cell_type": "code",
      "metadata": {
        "id": "02GZw9pX_1b7"
      },
      "source": [
        "# validation function\n",
        "def validate(model, criterion, optimizer, dataloader, device):\n",
        "  model.eval()\n",
        "  val_running_loss = 0.0\n",
        "  val_running_correct = 0\n",
        "\n",
        "  with torch.no_grad():\n",
        "    for inputs, targets in dataloader:\n",
        "      # move data to GPU\n",
        "      inputs, targets = inputs.to(device), targets.to(device)\n",
        "\n",
        "      # Forward pass\n",
        "      outputs = model(inputs)\n",
        "      loss = criterion(outputs, targets)\n",
        "\n",
        "      # Get prediction\n",
        "      # torch.max returns both max and argmax\n",
        "      _, predictions = torch.max(outputs, 1)\n",
        "\n",
        "      val_running_loss += loss.item()\n",
        "      val_running_correct += (predictions == targets).sum().item()\n",
        "    \n",
        "    val_loss = val_running_loss/len(dataloader.dataset)\n",
        "    # val_accuracy = 100. * val_running_correct/len(dataloader.dataset)        \n",
        "    val_accuracy = val_running_correct/len(dataloader.dataset)        \n",
        "    return val_loss, val_accuracy"
      ],
      "execution_count": null,
      "outputs": []
    },
    {
      "cell_type": "code",
      "metadata": {
        "id": "MTMfco7D8Ccr"
      },
      "source": [
        "# training function\n",
        "def train_and_validate(model, \n",
        "                       criterion, \n",
        "                       optimizer, \n",
        "                       train_loader, \n",
        "                       test_loader, \n",
        "                       device, \n",
        "                       epochs):\n",
        "  train_loss , train_accuracy = [], []\n",
        "  val_loss, val_accuracy = [], []\n",
        "  for epoch in range(epochs):\n",
        "    t0 = datetime.now()\n",
        "    print(f\"Epoch {epoch+1} of {epochs}\")\n",
        "    train_epoch_loss, train_epoch_accuracy = \\\n",
        "                    fit(model, criterion, optimizer, train_loader, device)\n",
        "    val_epoch_loss, val_epoch_accuracy = \\\n",
        "                    validate(model, criterion, optimizer, test_loader, device)\n",
        "\n",
        "    train_loss.append(train_epoch_loss)\n",
        "    train_accuracy.append(train_epoch_accuracy)\n",
        "\n",
        "    val_loss.append(val_epoch_loss)\n",
        "    val_accuracy.append(val_epoch_accuracy)\n",
        "\n",
        "    dt = datetime.now() - t0\n",
        "\n",
        "    print(f\"Train Loss: {train_epoch_loss:.6f}, Train Acc: {train_epoch_accuracy:.6f}\")\n",
        "    print(f\"Val Loss: {val_epoch_loss:.6f}, Val Acc: {val_epoch_accuracy:.6f}\")\n",
        "    print(f\"Duration: {dt}\")\n",
        "  return train_loss , train_accuracy, val_loss, val_accuracy"
      ],
      "execution_count": null,
      "outputs": []
    },
    {
      "cell_type": "markdown",
      "metadata": {
        "id": "VjTD18FiqooX"
      },
      "source": [
        "### Utils to Plot History and Save Images"
      ]
    },
    {
      "cell_type": "code",
      "metadata": {
        "id": "u1AicEgwsiTG"
      },
      "source": [
        "# A function to plot train and val loss\n",
        "def plot_loss(train_loss, \n",
        "              val_loss, \n",
        "              train_label='train loss', \n",
        "              val_label='val loss',\n",
        "              title=\"\",\n",
        "              xlabel=\"\",\n",
        "              ylabel=\"\",\n",
        "              save=False,\n",
        "              save_path=None):\n",
        "  plt.plot(train_loss, label=train_label)\n",
        "  plt.plot(val_loss, label=val_label)\n",
        "  plt.title(title)\n",
        "  plt.xlabel(xlabel)\n",
        "  plt.ylabel(ylabel)\n",
        "  plt.legend()\n",
        "  if save and save_path:\n",
        "    try:\n",
        "      plt.savefig(save_path)\n",
        "    except Exception as e:\n",
        "      print(\"Figure save failed!\")\n",
        "      raise e\n",
        "  plt.show()\n",
        "\n",
        "# A function to plot train and val accuracy\n",
        "def plot_accuracy(train_acuracy, \n",
        "              val_acuracy, \n",
        "              train_label='train accuracy', \n",
        "              val_label='val accuracy',\n",
        "              title=\"\",\n",
        "              xlabel=\"\",\n",
        "              ylabel=\"\",\n",
        "              save=False,\n",
        "              save_path=None):\n",
        "  plt.plot(train_acuracy, label=train_label)\n",
        "  plt.plot(val_acuracy, label=val_label)\n",
        "  plt.title(title)\n",
        "  plt.xlabel(xlabel)\n",
        "  plt.ylabel(ylabel)\n",
        "  plt.legend()\n",
        "  if save and save_path:\n",
        "    try:\n",
        "      plt.savefig(save_path)\n",
        "    except Exception as e:\n",
        "      print(\"Figure save failed!\")\n",
        "      raise e\n",
        "  plt.show()"
      ],
      "execution_count": null,
      "outputs": []
    },
    {
      "cell_type": "code",
      "metadata": {
        "id": "rVMy4fiCK1m0"
      },
      "source": [
        "def plot_show_save(data, color, title, xlabel, ylabel, file_path, figsize=(10, 7)):\n",
        "  plt.figure(figsize=figsize)\n",
        "  plt.plot(data, color=color, label=title)\n",
        "  plt.xlabel(xlabel)\n",
        "  plt.ylabel(ylabel)\n",
        "  plt.legend()\n",
        "  plt.savefig(file_path)\n",
        "  plt.show();"
      ],
      "execution_count": null,
      "outputs": []
    },
    {
      "cell_type": "markdown",
      "metadata": {
        "id": "t5wv0NXiq7P-"
      },
      "source": [
        "### Utils to Save Model Checkpoint"
      ]
    },
    {
      "cell_type": "code",
      "metadata": {
        "id": "Aknzie0cNm47"
      },
      "source": [
        "# A function to save model checkpoint\n",
        "def save_model_checkpoint(model_name, \n",
        "                          model, \n",
        "                          criterion, \n",
        "                          optimizer, \n",
        "                          epochs, \n",
        "                          batch_size,\n",
        "                          train_history,\n",
        "                          validation_history,\n",
        "                          file_name,\n",
        "                          destination=None, \n",
        "                          overwrite=False):\n",
        "  if  destination:\n",
        "    file_path = Path(destination)/ f\"{file_name}.pth\"\n",
        "  else:\n",
        "    file_path = Path(f\"{file_name}.pth\")\n",
        "  \n",
        "  if (not overwrite) and file_path.exists():\n",
        "    print(f\"File '{file_path}' already exist.\")\n",
        "    file_path = file_path[:-4] + f\"{str(datetime.now())}\" + '.pth'\n",
        "    print(f\"File renamed with current datetime as '{file_path}'\")\n",
        "  try:\n",
        "    if destination and (not Path(destination).exists()):\n",
        "      Path(destination).mkdir(parents=True, exist_ok=True)\n",
        "    torch.save(model.state_dict(), file_path)\n",
        "    torch.save({\n",
        "            'model_name': model_name,\n",
        "            'batch_size': batch_size,\n",
        "            'epoch': epochs,\n",
        "            'model_state_dict': model.state_dict(),\n",
        "            'optimizer_state_dict': optimizer.state_dict(),\n",
        "            'loss': criterion,\n",
        "            'train_history': train_history,\n",
        "            'validation_history': validation_history,\n",
        "            }, file_path)\n",
        "    print(f\"Model checkpoint saved at '{file_path}'\")\n",
        "  except Exception as e:\n",
        "    print(f\"Model checkpoint did not save!\")\n",
        "    raise(e)\n",
        "    return\n",
        "  return file_path\n",
        "\n",
        "# A function that convert loss, accuracy list to dictionary\n",
        "# It is usefull during save model checkpoint\n",
        "def prepare_history_dict(loss, accuracy):\n",
        "  loss_d = {k:v for k, v in enumerate(loss)}\n",
        "  accuracy = {k:v for k, v in enumerate(accuracy)}\n",
        "  history = {\n",
        "      'loss': loss_d,\n",
        "      'accuracy': accuracy\n",
        "  }\n",
        "  return history\n",
        "\n",
        "# A function that convert history dictionary to loss, accuracy list\n",
        "# It is usefull during load saved model checkpoint\n",
        "def retrieve_history_list(history):\n",
        "  loss = [history['loss'][i] for i in range(len(history['loss']))]\n",
        "  accuracy = [history['accuracy'][i] for i in range(len(history['accuracy']))]\n",
        "  return loss, accuracy\n",
        "\n",
        "# A function to load saved model checkpoint\n",
        "def load_model_checkpoint(saved_model_checkpoint_path):\n",
        "  # load the model checkpoint\n",
        "  checkpoint = torch.load(saved_model_checkpoint_path)\n",
        "  return checkpoint"
      ],
      "execution_count": null,
      "outputs": []
    },
    {
      "cell_type": "markdown",
      "metadata": {
        "id": "-T7CDcBBrgWm"
      },
      "source": [
        "### Utils to Show State Dict"
      ]
    },
    {
      "cell_type": "code",
      "metadata": {
        "id": "iU-auaNXFzLD"
      },
      "source": [
        "# A function to print model and/or optimizer state_dict\n",
        "def print_state_dict(model=None, optimizer=None):\n",
        "  # model's state_dict\n",
        "  if model:\n",
        "    print(\"model's state_dict:\")\n",
        "    for param_tensor in model.state_dict():\n",
        "      print(f\"{param_tensor} \\t {model.state_dict()[param_tensor].size()}\")\n",
        "  if optimizer:\n",
        "    # optimizer's state_dict\n",
        "    print(\"optimizer's state_dict:\")\n",
        "    for var_name in optimizer.state_dict():\n",
        "      print(f\"{var_name} \\t {optimizer.state_dict()[var_name]}\")\n",
        "  if not (model and optimizer):\n",
        "    print(\"No model or optimizer provided. Skipping!\")\n"
      ],
      "execution_count": null,
      "outputs": []
    },
    {
      "cell_type": "markdown",
      "source": [
        "# Load Trained Latest Checkpoints"
      ],
      "metadata": {
        "id": "b5k3gdKYrWUO"
      }
    },
    {
      "cell_type": "markdown",
      "metadata": {
        "id": "rfucEOou4aFe"
      },
      "source": [
        "## Access Saved Models\n",
        "\n"
      ]
    },
    {
      "cell_type": "code",
      "metadata": {
        "id": "plh-IOrVj06Q"
      },
      "source": [
        "loaded_models_from_gdrive_path = 'models_gdrive'\n",
        "loaded_models_from_local_path = 'models_local'"
      ],
      "execution_count": null,
      "outputs": []
    },
    {
      "cell_type": "markdown",
      "metadata": {
        "id": "fwdB1HFQNBf-"
      },
      "source": [
        "### Access Models from Google Drive"
      ]
    },
    {
      "cell_type": "code",
      "metadata": {
        "colab": {
          "base_uri": "https://localhost:8080/"
        },
        "id": "D5KCycSbNJdO",
        "outputId": "e9046bbb-eee4-4bd3-f7fb-8f3e8a3503dd"
      },
      "source": [
        "if LOAD_MODELS_FROM_GOOGLE_DRIVE:\n",
        "  # select location of gdrive\n",
        "  gdrive_models_path = f'{GOOGLE_DRIVE_MOUNTED_DIRNAME}/{GOOGLE_DRIVE_MODELS_PATH}'\n",
        "  print(f\"List inside {gdrive_models_path}:\")\n",
        "  print(*os.listdir(gdrive_models_path), sep='\\n')\n",
        "\n",
        "  # copy gdrive models to colab\n",
        "  # how to : https://stackoverflow.com/q/59710439/8520849\n",
        "  copytree(src=gdrive_models_path, dst=loaded_models_from_gdrive_path)\n",
        "\n",
        "  # see loaded models\n",
        "  print(f\"List inside {loaded_models_from_gdrive_path}:\")\n",
        "  print(*os.listdir(loaded_models_from_gdrive_path), sep='\\n')"
      ],
      "execution_count": null,
      "outputs": [
        {
          "output_type": "stream",
          "name": "stdout",
          "text": [
            "List inside gdrive/MyDrive/ML/concrete-crack-detection/models:\n",
            "resnet18-epochs-1-2021-10-23 05:30:52.401421.pth\n",
            "vgg16-epochs-1-2021-10-23 05:30:52.132006.pth\n",
            "densenet161-epochs-1-2021-10-23 05:30:52.647853.pth\n",
            "alexnet-epochs-1-2021-10-23 05:30:53.656397.pth\n",
            "vgg16-epochs-7-10_23_2021_11_09_24.pth\n",
            "resnet18-epochs-7-10_23_2021_11_16_24.pth\n",
            "densenet161-epochs-7-10_23_2021_11_42_42.pth\n",
            "alexnet-epochs-7-10_23_2021_11_48_27.pth\n",
            "alexnet-epochs-5-10_23_2021_10_26_28.pth\n",
            "resnet18-epochs-5-10_23_2021_09_54_36.pth\n",
            "alexnet-epochs-3-10_23_2021_09_07_21.pth\n",
            "vgg16-epochs-3-10_23_2021_08_28_17.pth\n",
            "densenet161-epochs-5-10_23_2021_10_20_42.pth\n",
            "resnet18-epochs-3-10_23_2021_08_35_27.pth\n",
            "vgg16-epochs-5-10_23_2021_09_47_32.pth\n",
            "densenet161-epochs-3-10_23_2021_09_01_35.pth\n",
            "vgg16-epochs-9-10_23_2021_13_22_24.pth\n",
            "resnet18-epochs-9-10_23_2021_13_29_29.pth\n",
            "densenet161-epochs-9-10_23_2021_13_56_53.pth\n",
            "alexnet-epochs-9-10_23_2021_14_02_29.pth\n",
            "vgg16-epochs-21-10_23_2021_19_33_36.pth\n",
            "resnet18-epochs-21-10_23_2021_19_40_47.pth\n",
            "densenet161-epochs-21-10_23_2021_20_06_56.pth\n",
            "alexnet-epochs-21-10_23_2021_20_12_46.pth\n",
            "densenet161-epochs-11-10_23_2021_15_07_15.pth\n",
            "vgg16-epochs-11-10_23_2021_14_34_07.pth\n",
            "vgg16-epochs-15-10_23_2021_15_46_56.pth\n",
            "resnet18-epochs-15-10_23_2021_16_00_49.pth\n",
            "vgg16-epochs-19-10_23_2021_18_36_29.pth\n",
            "vgg16-epochs-17-10_23_2021_17_28_39.pth\n",
            "alexnet-epochs-11-10_23_2021_15_13_02.pth\n",
            "resnet18-epochs-11-10_23_2021_14_41_13.pth\n",
            "alexnet-epochs-15-10_23_2021_17_04_26.pth\n",
            "resnet18-epochs-19-10_23_2021_18_43_39.pth\n",
            "densenet161-epochs-19-10_23_2021_19_09_45.pth\n",
            "alexnet-epochs-17-10_23_2021_18_07_36.pth\n",
            "alexnet-epochs-19-10_23_2021_19_15_35.pth\n",
            "resnet18-epochs-17-10_23_2021_17_35_43.pth\n",
            "densenet161-epochs-15-10_23_2021_16_52_58.pth\n",
            "densenet161-epochs-17-10_23_2021_18_01_50.pth\n",
            "vgg16-epochs-25-10_23_2021_22_46_46.pth\n",
            "resnet18-epochs-25-10_23_2021_22_53_57.pth\n",
            "densenet161-epochs-25-10_23_2021_23_21_39.pth\n",
            "alexnet-epochs-25-10_23_2021_23_27_37.pth\n",
            "resnet18-epochs-23-10_23_2021_21_24_40.pth\n",
            "alexnet-epochs-23-10_23_2021_21_57_59.pth\n",
            "vgg16-epochs-23-10_23_2021_21_17_24.pth\n",
            "densenet161-epochs-23-10_23_2021_21_52_14.pth\n",
            "vgg16-epochs-27-10_23_2021_23_53_02.pth\n",
            "resnet18-epochs-27-10_24_2021_00_00_10.pth\n",
            "densenet161-epochs-27-10_24_2021_00_27_50.pth\n",
            "alexnet-epochs-27-10_24_2021_00_33_53.pth\n",
            "vgg16-epochs-29-10_24_2021_01_28_51.pth\n",
            "resnet18-epochs-29-10_24_2021_01_36_47.pth\n",
            "densenet161-epochs-29-10_24_2021_02_04_30.pth\n",
            "alexnet-epochs-29-10_24_2021_02_10_13.pth\n",
            "vgg16-epochs-30-10_24_2021_02_28_26.pth\n",
            "resnet18-epochs-30-10_24_2021_02_32_04.pth\n",
            "densenet161-epochs-30-10_24_2021_02_45_48.pth\n",
            "alexnet-epochs-30-10_24_2021_02_48_49.pth\n",
            "List inside models_gdrive:\n",
            "densenet161-epochs-19-10_23_2021_19_09_45.pth\n",
            "densenet161-epochs-9-10_23_2021_13_56_53.pth\n",
            "vgg16-epochs-19-10_23_2021_18_36_29.pth\n",
            "densenet161-epochs-3-10_23_2021_09_01_35.pth\n",
            "resnet18-epochs-5-10_23_2021_09_54_36.pth\n",
            "resnet18-epochs-7-10_23_2021_11_16_24.pth\n",
            "alexnet-epochs-29-10_24_2021_02_10_13.pth\n",
            "alexnet-epochs-27-10_24_2021_00_33_53.pth\n",
            "vgg16-epochs-3-10_23_2021_08_28_17.pth\n",
            "vgg16-epochs-11-10_23_2021_14_34_07.pth\n",
            "resnet18-epochs-30-10_24_2021_02_32_04.pth\n",
            "alexnet-epochs-1-2021-10-23 05:30:53.656397.pth\n",
            "densenet161-epochs-17-10_23_2021_18_01_50.pth\n",
            "vgg16-epochs-29-10_24_2021_01_28_51.pth\n",
            "alexnet-epochs-5-10_23_2021_10_26_28.pth\n",
            "vgg16-epochs-25-10_23_2021_22_46_46.pth\n",
            "alexnet-epochs-25-10_23_2021_23_27_37.pth\n",
            "alexnet-epochs-9-10_23_2021_14_02_29.pth\n",
            "alexnet-epochs-7-10_23_2021_11_48_27.pth\n",
            "densenet161-epochs-1-2021-10-23 05:30:52.647853.pth\n",
            "densenet161-epochs-29-10_24_2021_02_04_30.pth\n",
            "vgg16-epochs-7-10_23_2021_11_09_24.pth\n",
            "resnet18-epochs-19-10_23_2021_18_43_39.pth\n",
            "resnet18-epochs-3-10_23_2021_08_35_27.pth\n",
            "densenet161-epochs-27-10_24_2021_00_27_50.pth\n",
            "resnet18-epochs-17-10_23_2021_17_35_43.pth\n",
            "vgg16-epochs-1-2021-10-23 05:30:52.132006.pth\n",
            "densenet161-epochs-11-10_23_2021_15_07_15.pth\n",
            "resnet18-epochs-11-10_23_2021_14_41_13.pth\n",
            "alexnet-epochs-17-10_23_2021_18_07_36.pth\n",
            "alexnet-epochs-3-10_23_2021_09_07_21.pth\n",
            "vgg16-epochs-30-10_24_2021_02_28_26.pth\n",
            "densenet161-epochs-15-10_23_2021_16_52_58.pth\n",
            "densenet161-epochs-23-10_23_2021_21_52_14.pth\n",
            "alexnet-epochs-30-10_24_2021_02_48_49.pth\n",
            "alexnet-epochs-19-10_23_2021_19_15_35.pth\n",
            "resnet18-epochs-9-10_23_2021_13_29_29.pth\n",
            "resnet18-epochs-27-10_24_2021_00_00_10.pth\n",
            "vgg16-epochs-21-10_23_2021_19_33_36.pth\n",
            "vgg16-epochs-5-10_23_2021_09_47_32.pth\n",
            "densenet161-epochs-25-10_23_2021_23_21_39.pth\n",
            "alexnet-epochs-21-10_23_2021_20_12_46.pth\n",
            "vgg16-epochs-27-10_23_2021_23_53_02.pth\n",
            "resnet18-epochs-29-10_24_2021_01_36_47.pth\n",
            "densenet161-epochs-5-10_23_2021_10_20_42.pth\n",
            "resnet18-epochs-23-10_23_2021_21_24_40.pth\n",
            "alexnet-epochs-23-10_23_2021_21_57_59.pth\n",
            "resnet18-epochs-25-10_23_2021_22_53_57.pth\n",
            "densenet161-epochs-7-10_23_2021_11_42_42.pth\n",
            "vgg16-epochs-17-10_23_2021_17_28_39.pth\n",
            "resnet18-epochs-1-2021-10-23 05:30:52.401421.pth\n",
            "alexnet-epochs-11-10_23_2021_15_13_02.pth\n",
            "densenet161-epochs-21-10_23_2021_20_06_56.pth\n",
            "resnet18-epochs-15-10_23_2021_16_00_49.pth\n",
            "alexnet-epochs-15-10_23_2021_17_04_26.pth\n",
            "densenet161-epochs-30-10_24_2021_02_45_48.pth\n",
            "vgg16-epochs-15-10_23_2021_15_46_56.pth\n",
            "resnet18-epochs-21-10_23_2021_19_40_47.pth\n",
            "vgg16-epochs-9-10_23_2021_13_22_24.pth\n",
            "vgg16-epochs-23-10_23_2021_21_17_24.pth\n"
          ]
        }
      ]
    },
    {
      "cell_type": "markdown",
      "metadata": {
        "id": "p8uCuqPlM3Tg"
      },
      "source": [
        "### Access Models from local machine"
      ]
    },
    {
      "cell_type": "code",
      "metadata": {
        "id": "E4jTSBl-GRjO"
      },
      "source": [
        "# Upload models from local machine \n",
        "# Uploading from local machine takes more times than google drive\n",
        "# and some extra work required after upload completed\n",
        "from google.colab import files\n",
        "if LOAD_MODELS_FROM_LOCAL:\n",
        "  # loaded_models_from_local_path\n",
        "  uploaded = files.upload()"
      ],
      "execution_count": null,
      "outputs": []
    },
    {
      "cell_type": "code",
      "metadata": {
        "id": "paLiFYRC-p3U"
      },
      "source": [
        "if LOAD_MODELS_FROM_LOCAL:\n",
        "  pass\n",
        "  # # preprocess models if needed\n",
        "  # for fn in uploaded.keys():\n",
        "  #   # print('User uploaded file \"{name}\" with length {length} bytes'.format(\n",
        "  #   #     name=fn, length=len(uploaded[fn])))\n",
        "  #   print(fn)\n",
        "  # # os.system(\"unzip -qq -o {} -d {}\".format(uploaded, loaded_models_from_local_path))\n",
        "  # # print(*os.listdir(loaded_models_from_local_path), sep='\\n')"
      ],
      "execution_count": null,
      "outputs": []
    },
    {
      "cell_type": "code",
      "metadata": {
        "id": "ORnPnwUDG6HP"
      },
      "source": [
        "# see uploaded models\n",
        "if LOAD_MODELS_FROM_LOCAL:\n",
        "  os.listdir(*loaded_models_from_local_path, sep='\\n')"
      ],
      "execution_count": null,
      "outputs": []
    },
    {
      "cell_type": "markdown",
      "metadata": {
        "id": "fDzdZTabJgvp"
      },
      "source": [
        "### Validate and Get Best Checkpoints"
      ]
    },
    {
      "cell_type": "code",
      "metadata": {
        "id": "K9ROhfxN_HBm"
      },
      "source": [
        "# default retrieved_saved_models_dir\n",
        "retrieved_saved_models_dir = MODELS_DIRNAME_COLAB\n",
        "model_checkpoint_file_names = []\n",
        "model_checkpoint_path_dict = {}\n",
        "valid_model_names = [\n",
        "                    'vgg16',\n",
        "                    'resnet18',\n",
        "                    'densenet161',\n",
        "                    'alexnet']\n",
        "new_epochs = RESUME_TRAINING_EPOCHS\n",
        "# If we want to train where the last trained epochs\n",
        "RESUME_TRAIN = RESUME_TRAINING_STAGE\n",
        "\n",
        "# common variables for saving and retrieving models\n",
        "saved_model_list = {}\n",
        "saved_model_destination = MODELS_DIRNAME_COLAB\n",
        "\n",
        "# common variables for saving logs or images or text files\n",
        "logs_destination = LOGS_DIRNAME\n",
        "# create logs_destination if not exists\n",
        "if not os.path.exists(logs_destination):\n",
        "  os.makedirs(logs_destination)"
      ],
      "execution_count": null,
      "outputs": []
    },
    {
      "cell_type": "code",
      "metadata": {
        "id": "yCZTZJMd-KPA"
      },
      "source": [
        "if LOAD_MODELS_FROM_GOOGLE_DRIVE or LOAD_MODELS_FROM_LOCAL:\n",
        "  if LOAD_MODELS_FROM_GOOGLE_DRIVE:\n",
        "    retrieved_saved_models_dir = loaded_models_from_gdrive_path\n",
        "  elif LOAD_MODELS_FROM_LOCAL:\n",
        "    retrieved_saved_models_dir = loaded_models_from_local_path\n",
        "else:\n",
        "  retrieved_saved_models_dir = saved_model_destination"
      ],
      "execution_count": null,
      "outputs": []
    },
    {
      "cell_type": "code",
      "metadata": {
        "colab": {
          "base_uri": "https://localhost:8080/"
        },
        "id": "b8yPTU3FAg4V",
        "outputId": "d952e218-d6c7-4311-c0b3-65ab8e02673f"
      },
      "source": [
        "# see the available models and \n",
        "# store pathe in a dictionary manualy or automatic\n",
        "model_checkpoint_file_names = os.listdir(retrieved_saved_models_dir)\n",
        "for file_name in model_checkpoint_file_names:\n",
        "  extension = file_name.split('.')[-1]\n",
        "  if not extension == 'pth':\n",
        "    continue\n",
        "  \n",
        "  model_name = file_name.split('-')[0]\n",
        "  if model_name in valid_model_names:\n",
        "    if model_checkpoint_path_dict.get(model_name, None):\n",
        "      try:\n",
        "        pre_file_name = str(model_checkpoint_path_dict[model_name]).split('/')[-1]\n",
        "        pre_epochs = int(pre_file_name.split('-')[2]) # \"<modelname>-epochs-<epochs>-....pth\"\n",
        "        curr_epochs = int(file_name.split('-')[2]) # \"<modelname>-epochs-<epochs>-....pth\"\n",
        "        if curr_epochs > pre_epochs:\n",
        "          model_checkpoint_path_dict[model_name] = Path(retrieved_saved_models_dir) / f'{file_name}'\n",
        "      except Exception as e:\n",
        "        print(\"ERROR: saved models file name convension mismatch.\")\n",
        "        print(\"Sould be like '<modelname>-epochs-<epochs>-....pth'\")\n",
        "    else:\n",
        "      model_checkpoint_path_dict[model_name] = Path(retrieved_saved_models_dir) / f'{file_name}'\n",
        "if len(model_checkpoint_path_dict) > 0:\n",
        "  print(f\"{len(model_checkpoint_path_dict)} model checkpoint found.\")\n",
        "  print(f\"Models Name: {model_checkpoint_path_dict.keys()}\")\n",
        "  print(*model_checkpoint_path_dict.items(), sep='\\n')\n",
        "else:\n",
        "  print(f\"WARNING: No model checkpoint found!\")"
      ],
      "execution_count": null,
      "outputs": [
        {
          "output_type": "stream",
          "name": "stdout",
          "text": [
            "4 model checkpoint found.\n",
            "Models Name: dict_keys(['densenet161', 'vgg16', 'resnet18', 'alexnet'])\n",
            "('densenet161', PosixPath('models_gdrive/densenet161-epochs-30-10_24_2021_02_45_48.pth'))\n",
            "('vgg16', PosixPath('models_gdrive/vgg16-epochs-30-10_24_2021_02_28_26.pth'))\n",
            "('resnet18', PosixPath('models_gdrive/resnet18-epochs-30-10_24_2021_02_32_04.pth'))\n",
            "('alexnet', PosixPath('models_gdrive/alexnet-epochs-30-10_24_2021_02_48_49.pth'))\n"
          ]
        }
      ]
    },
    {
      "cell_type": "markdown",
      "source": [
        "# Load Models with Trained Checkpoints"
      ],
      "metadata": {
        "id": "Axy3LYj6ugo8"
      }
    },
    {
      "cell_type": "markdown",
      "metadata": {
        "id": "V7Z2rGPPOtCc"
      },
      "source": [
        "### VGG"
      ]
    },
    {
      "cell_type": "code",
      "metadata": {
        "colab": {
          "base_uri": "https://localhost:8080/",
          "height": 260,
          "referenced_widgets": [
            "a79b44a5032b4cd48e95d3de77b48a8c",
            "b2b6a10a64984cfe8e6fc0f7c544b935",
            "d09e955e2589422f8b36d1de36c4aadc",
            "253bd3d64c264d639c604b20099ee4e4",
            "92702a953dab43afa8a2a9b83ef75349",
            "b5e39c3b8cd04d57b252e9d60b47f192",
            "90ded63d48c84e62a30ba087bef5f100",
            "5847aedea76e4665807f5f18f0700b34",
            "6dfed149b73d42dbba013dca559eeb4f",
            "5bc4d32dad35421db706f451500a6612",
            "af7d1182aa434fc3908bdffb027551aa"
          ]
        },
        "id": "z_RjMNdrAXCg",
        "outputId": "0333ea04-6f74-4790-cd73-7e22afcfbd22"
      },
      "source": [
        "# Load Saved Model Checkpoint\n",
        "if model_checkpoint_path_dict.get('vgg16', None) is not None:\n",
        "  # pretrained vgg16 model\n",
        "  model_vgg16 = models.vgg16(pretrained=True)\n",
        "\n",
        "  # Freeze weights\n",
        "  for param in model_vgg16.parameters():\n",
        "    param.requires_grad = False\n",
        "  \n",
        "  # see the number of features\n",
        "  n_features_vgg16 = model_vgg16.classifier[0].in_features\n",
        "  print(n_features_vgg16)\n",
        "\n",
        "  # We're doing binary classification\n",
        "  model_vgg16.classifier = nn.Linear(n_features_vgg16, 2)\n",
        "\n",
        "  # Use GPU if available\n",
        "  print(device)\n",
        "  model_vgg16.to(device)\n",
        "\n",
        "  # Loss and optimizer\n",
        "  criterion_vgg16 = nn.CrossEntropyLoss()\n",
        "  optimizer_vgg16 = torch.optim.Adam(model_vgg16.parameters())\n",
        "\n",
        "  # load the model checkpoint\n",
        "  checkpoint_vgg16 = load_model_checkpoint(\n",
        "                      model_checkpoint_path_dict.get('vgg16'))\n",
        "\n",
        "  # load model weights state_dict\n",
        "  model_vgg16.load_state_dict(checkpoint_vgg16['model_state_dict'])\n",
        "  print('Previously trained model weights state_dict loaded...')\n",
        "\n",
        "  # load trained optimizer state_dict\n",
        "  optimizer_vgg16.load_state_dict(checkpoint_vgg16['optimizer_state_dict'])\n",
        "  print('Previously trained optimizer state_dict loaded...')\n",
        "\n",
        "  # Previous epochs\n",
        "  epochs_vgg16_pre = checkpoint_vgg16['epoch']\n",
        "  print(f\"Previously trained for {epochs_vgg16_pre} number of epochs...\")\n",
        "\n",
        "  # load the criterion\n",
        "  criterion_vgg16 = checkpoint_vgg16['loss']\n",
        "  print('Trained model loss function loaded...')\n",
        "\n",
        "  # train_loss_vgg16_pre, train_accuracy_vgg16_pre = retrieve_history_list(\n",
        "  #                               checkpoint_vgg16['train_history'])\n",
        "  # val_loss_vgg16_pre, val_accuracy_vgg16_pre = retrieve_history_list(\n",
        "  #                               checkpoint_vgg16['validation_history'])"
      ],
      "execution_count": null,
      "outputs": [
        {
          "output_type": "stream",
          "name": "stderr",
          "text": [
            "/usr/local/lib/python3.7/dist-packages/torchvision/models/_utils.py:209: UserWarning: The parameter 'pretrained' is deprecated since 0.13 and will be removed in 0.15, please use 'weights' instead.\n",
            "  f\"The parameter '{pretrained_param}' is deprecated since 0.13 and will be removed in 0.15, \"\n",
            "/usr/local/lib/python3.7/dist-packages/torchvision/models/_utils.py:223: UserWarning: Arguments other than a weight enum or `None` for 'weights' are deprecated since 0.13 and will be removed in 0.15. The current behavior is equivalent to passing `weights=VGG16_Weights.IMAGENET1K_V1`. You can also use `weights=VGG16_Weights.DEFAULT` to get the most up-to-date weights.\n",
            "  warnings.warn(msg)\n",
            "Downloading: \"https://download.pytorch.org/models/vgg16-397923af.pth\" to /root/.cache/torch/hub/checkpoints/vgg16-397923af.pth\n"
          ]
        },
        {
          "output_type": "display_data",
          "data": {
            "text/plain": [
              "  0%|          | 0.00/528M [00:00<?, ?B/s]"
            ],
            "application/vnd.jupyter.widget-view+json": {
              "version_major": 2,
              "version_minor": 0,
              "model_id": "a79b44a5032b4cd48e95d3de77b48a8c"
            }
          },
          "metadata": {}
        },
        {
          "output_type": "stream",
          "name": "stdout",
          "text": [
            "25088\n",
            "cuda:0\n",
            "Previously trained model weights state_dict loaded...\n",
            "Previously trained optimizer state_dict loaded...\n",
            "Previously trained for 30 number of epochs...\n",
            "Trained model loss function loaded...\n"
          ]
        }
      ]
    },
    {
      "cell_type": "markdown",
      "metadata": {
        "id": "SWciiCaYOv1l"
      },
      "source": [
        "### ResNet"
      ]
    },
    {
      "cell_type": "code",
      "metadata": {
        "colab": {
          "base_uri": "https://localhost:8080/",
          "height": 260,
          "referenced_widgets": [
            "af36488ac74c4797819b4ed5b24556d4",
            "4fd802f3cfc548d0a45efa2db330881d",
            "26337b1859264342b9b0d006bbee657c",
            "b7d4256691544ca989c808da9f21ab4d",
            "0b25698d69df4591b33150b6b4d3d005",
            "64b10734093441e4919cb739bb2a1eeb",
            "75c40f0cbe2444b9b9d5082c20bd856a",
            "a5b23c1283784686a9caea0713d7ecd3",
            "f2ed9964e6f241e1a928674d95e59097",
            "462f5623d938469caee2f0fac6989321",
            "92826862595a4cc19e2f7c18df709a22"
          ]
        },
        "id": "N7zau-oE1TCe",
        "outputId": "d510d823-db65-494c-b13a-da32a81f6ee3"
      },
      "source": [
        "# Load Saved Model Checkpoint\n",
        "if model_checkpoint_path_dict.get('resnet18', None) is not None:\n",
        "  # pretrained resnet18 model\n",
        "  model_resnet18 = models.resnet18(pretrained=True)\n",
        "\n",
        "  # Freeze weights\n",
        "  for param in model_resnet18.parameters():\n",
        "    param.requires_grad = False\n",
        "  \n",
        "  # see the number of features\n",
        "  n_features_resnet18 = model_resnet18.fc.in_features\n",
        "  print(n_features_resnet18)\n",
        "\n",
        "  # We're doing binary classification\n",
        "  model_resnet18.fc = nn.Linear(n_features_resnet18, 2)\n",
        "\n",
        "  # Use GPU if available\n",
        "  print(device)\n",
        "  model_resnet18.to(device)\n",
        "\n",
        "  # Loss and optimizer\n",
        "  criterion_resnet18 = nn.CrossEntropyLoss()\n",
        "  optimizer_resnet18 = torch.optim.Adam(model_resnet18.parameters())\n",
        "\n",
        "  # load the model checkpoint\n",
        "  checkpoint_resnet18 = load_model_checkpoint(\n",
        "                      model_checkpoint_path_dict.get('resnet18'))\n",
        "\n",
        "  # load model weights state_dict\n",
        "  model_resnet18.load_state_dict(checkpoint_resnet18['model_state_dict'])\n",
        "  print('Previously trained model weights state_dict loaded...')\n",
        "\n",
        "  # load trained optimizer state_dict\n",
        "  optimizer_resnet18.load_state_dict(checkpoint_resnet18['optimizer_state_dict'])\n",
        "  print('Previously trained optimizer state_dict loaded...')\n",
        "\n",
        "  # Previous epochs\n",
        "  epochs_resnet18_pre = checkpoint_resnet18['epoch']\n",
        "  print(f\"Previously trained for {epochs_resnet18_pre} number of epochs...\")\n",
        "\n",
        "  # load the criterion\n",
        "  criterion_resnet18 = checkpoint_resnet18['loss']\n",
        "  print('Trained model loss function loaded...')\n",
        "\n",
        "  # train_loss_resnet18_pre, train_accuracy_resnet18_pre = retrieve_history_list(\n",
        "  #                               checkpoint_resnet18['train_history'])\n",
        "  # val_loss_resnet18_pre, val_accuracy_resnet18_pre = retrieve_history_list(\n",
        "  #                               checkpoint_resnet18['validation_history'])"
      ],
      "execution_count": null,
      "outputs": [
        {
          "output_type": "stream",
          "name": "stderr",
          "text": [
            "/usr/local/lib/python3.7/dist-packages/torchvision/models/_utils.py:209: UserWarning: The parameter 'pretrained' is deprecated since 0.13 and will be removed in 0.15, please use 'weights' instead.\n",
            "  f\"The parameter '{pretrained_param}' is deprecated since 0.13 and will be removed in 0.15, \"\n",
            "/usr/local/lib/python3.7/dist-packages/torchvision/models/_utils.py:223: UserWarning: Arguments other than a weight enum or `None` for 'weights' are deprecated since 0.13 and will be removed in 0.15. The current behavior is equivalent to passing `weights=ResNet18_Weights.IMAGENET1K_V1`. You can also use `weights=ResNet18_Weights.DEFAULT` to get the most up-to-date weights.\n",
            "  warnings.warn(msg)\n",
            "Downloading: \"https://download.pytorch.org/models/resnet18-f37072fd.pth\" to /root/.cache/torch/hub/checkpoints/resnet18-f37072fd.pth\n"
          ]
        },
        {
          "output_type": "display_data",
          "data": {
            "text/plain": [
              "  0%|          | 0.00/44.7M [00:00<?, ?B/s]"
            ],
            "application/vnd.jupyter.widget-view+json": {
              "version_major": 2,
              "version_minor": 0,
              "model_id": "af36488ac74c4797819b4ed5b24556d4"
            }
          },
          "metadata": {}
        },
        {
          "output_type": "stream",
          "name": "stdout",
          "text": [
            "512\n",
            "cuda:0\n",
            "Previously trained model weights state_dict loaded...\n",
            "Previously trained optimizer state_dict loaded...\n",
            "Previously trained for 30 number of epochs...\n",
            "Trained model loss function loaded...\n"
          ]
        }
      ]
    },
    {
      "cell_type": "markdown",
      "metadata": {
        "id": "e1wNikLGO2gZ"
      },
      "source": [
        "### DenseNet"
      ]
    },
    {
      "cell_type": "code",
      "metadata": {
        "colab": {
          "base_uri": "https://localhost:8080/",
          "referenced_widgets": [
            "526bc7f284eb48189204860d4dff88c2",
            "1c8e014fcfc94ffc80d3375d63060b3a",
            "bf3ab26f4aa440619cdb588d2442378e",
            "b202c7bc8044416f82fc5712ef8af439",
            "fc92a6233e9c4ff483276cb6a110b1ea",
            "c512c082f45445c98eb9ace5afba042e",
            "914cc7025738482e9cd1fc22bc1967bc",
            "5de5704a27244da095ca06a07989b613",
            "6a4ad8894c434fe3873908a52ab45c99",
            "b41f5ffab90543ec9aa09ccff94c84a9",
            "a09ffa8ea3a34e1ea44a7cfc0293d5c2"
          ]
        },
        "id": "gyTdxnjIz6ZK",
        "outputId": "a1b7a716-4681-4e30-e8dd-40de53dbc226"
      },
      "source": [
        "# Load Saved Model Checkpoint\n",
        "if model_checkpoint_path_dict.get('densenet161', None) is not None:\n",
        "  # pretrained densenet161 model\n",
        "  model_densenet161 = models.densenet161(pretrained=True)\n",
        "\n",
        "  # Freeze weights\n",
        "  for param in model_densenet161.parameters():\n",
        "    param.requires_grad = False\n",
        "  \n",
        "  # see the number of features\n",
        "  n_features_densenet161 = model_densenet161.classifier.in_features\n",
        "  print(n_features_densenet161)\n",
        "\n",
        "  # We're doing binary classification\n",
        "  model_densenet161.classifier = nn.Linear(n_features_densenet161, 2)\n",
        "\n",
        "  # Use GPU if available\n",
        "  print(device)\n",
        "  model_densenet161.to(device)\n",
        "\n",
        "  # Loss and optimizer\n",
        "  criterion_densenet161 = nn.CrossEntropyLoss()\n",
        "  optimizer_densenet161 = torch.optim.Adam(model_densenet161.parameters())\n",
        "\n",
        "  # load the model checkpoint\n",
        "  checkpoint_densenet161 = load_model_checkpoint(\n",
        "                      model_checkpoint_path_dict.get('densenet161'))\n",
        "\n",
        "  # load model weights state_dict\n",
        "  model_densenet161.load_state_dict(checkpoint_densenet161['model_state_dict'])\n",
        "  print('Previously trained model weights state_dict loaded...')\n",
        "\n",
        "  # load trained optimizer state_dict\n",
        "  optimizer_densenet161.load_state_dict(checkpoint_densenet161['optimizer_state_dict'])\n",
        "  print('Previously trained optimizer state_dict loaded...')\n",
        "\n",
        "  # Previous epochs\n",
        "  epochs_densenet161_pre = checkpoint_densenet161['epoch']\n",
        "  print(f\"Previously trained for {epochs_densenet161_pre} number of epochs...\")\n",
        "\n",
        "  # load the criterion\n",
        "  criterion_densenet161 = checkpoint_densenet161['loss']\n",
        "  print('Trained model loss function loaded...')\n",
        "\n",
        "  # train_loss_densenet161_pre, train_accuracy_densenet161_pre = retrieve_history_list(\n",
        "  #                               checkpoint_densenet161['train_history'])\n",
        "  # val_loss_densenet161_pre, val_accuracy_densenet161_pre = retrieve_history_list(\n",
        "  #                               checkpoint_densenet161['validation_history'])"
      ],
      "execution_count": null,
      "outputs": [
        {
          "output_type": "stream",
          "name": "stderr",
          "text": [
            "/usr/local/lib/python3.7/dist-packages/torchvision/models/_utils.py:209: UserWarning: The parameter 'pretrained' is deprecated since 0.13 and will be removed in 0.15, please use 'weights' instead.\n",
            "  f\"The parameter '{pretrained_param}' is deprecated since 0.13 and will be removed in 0.15, \"\n",
            "/usr/local/lib/python3.7/dist-packages/torchvision/models/_utils.py:223: UserWarning: Arguments other than a weight enum or `None` for 'weights' are deprecated since 0.13 and will be removed in 0.15. The current behavior is equivalent to passing `weights=DenseNet161_Weights.IMAGENET1K_V1`. You can also use `weights=DenseNet161_Weights.DEFAULT` to get the most up-to-date weights.\n",
            "  warnings.warn(msg)\n",
            "Downloading: \"https://download.pytorch.org/models/densenet161-8d451a50.pth\" to /root/.cache/torch/hub/checkpoints/densenet161-8d451a50.pth\n"
          ]
        },
        {
          "output_type": "display_data",
          "data": {
            "text/plain": [
              "  0%|          | 0.00/110M [00:00<?, ?B/s]"
            ],
            "application/vnd.jupyter.widget-view+json": {
              "version_major": 2,
              "version_minor": 0,
              "model_id": "526bc7f284eb48189204860d4dff88c2"
            }
          },
          "metadata": {}
        },
        {
          "output_type": "stream",
          "name": "stdout",
          "text": [
            "2208\n",
            "cuda:0\n",
            "Previously trained model weights state_dict loaded...\n",
            "Previously trained optimizer state_dict loaded...\n",
            "Previously trained for 30 number of epochs...\n",
            "Trained model loss function loaded...\n"
          ]
        }
      ]
    },
    {
      "cell_type": "markdown",
      "metadata": {
        "id": "WH69iRT-O-nb"
      },
      "source": [
        "### AlexNet"
      ]
    },
    {
      "cell_type": "code",
      "metadata": {
        "colab": {
          "base_uri": "https://localhost:8080/",
          "height": 260,
          "referenced_widgets": [
            "52c29a07a2c54ebe9013e46abc9ef5d6",
            "7efb03ad13c84b38897bc384f24633c7",
            "6bae515b38bd4630a13ac847ffdbebc4",
            "5656818185c24826b41cca849f49a07a",
            "3ae9936b9b324ec2b235d5dfb0a14a23",
            "1372122811ae4b4e9a70a5651647b6e1",
            "1be62ea074ce4573989decf5c09a9165",
            "daa515280b194900bc4ea2e43c4e1386",
            "2bbe5038b86249e68511973963b7da52",
            "ee78c24ad4574d2384a39009dde7bb5a",
            "1a569adaa11c45ad8846f55f6b4c1214"
          ]
        },
        "id": "IEwHhAjY2BFF",
        "outputId": "63d88f4c-524c-48db-dc06-a9d488d15d61"
      },
      "source": [
        "# Load Saved Model Checkpoint\n",
        "if model_checkpoint_path_dict.get('alexnet', None) is not None:\n",
        "  # pretrained alexnet model\n",
        "  model_alexnet = models.alexnet(pretrained=True)\n",
        "\n",
        "  # Freeze weights\n",
        "  for param in model_alexnet.parameters():\n",
        "    param.requires_grad = False\n",
        "  \n",
        "  # see the number of features\n",
        "  n_features_alexnet = model_alexnet.classifier[1].in_features\n",
        "  print(n_features_alexnet)\n",
        "\n",
        "  # We're doing binary classification\n",
        "  model_alexnet.classifier = nn.Linear(n_features_alexnet, 2)\n",
        "\n",
        "  # Use GPU if available\n",
        "  print(device)\n",
        "  model_alexnet.to(device)\n",
        "\n",
        "  # Loss and optimizer\n",
        "  criterion_alexnet = nn.CrossEntropyLoss()\n",
        "  optimizer_alexnet = torch.optim.Adam(model_alexnet.parameters())\n",
        "\n",
        "  # load the model checkpoint\n",
        "  checkpoint_alexnet = load_model_checkpoint(\n",
        "                      model_checkpoint_path_dict.get('alexnet'))\n",
        "\n",
        "  # load model weights state_dict\n",
        "  model_alexnet.load_state_dict(checkpoint_alexnet['model_state_dict'])\n",
        "  print('Previously trained model weights state_dict loaded...')\n",
        "\n",
        "  # load trained optimizer state_dict\n",
        "  optimizer_alexnet.load_state_dict(checkpoint_alexnet['optimizer_state_dict'])\n",
        "  print('Previously trained optimizer state_dict loaded...')\n",
        "\n",
        "  # Previous epochs\n",
        "  epochs_alexnet_pre = checkpoint_alexnet['epoch']\n",
        "  print(f\"Previously trained for {epochs_alexnet_pre} number of epochs...\")\n",
        "\n",
        "  # load the criterion\n",
        "  criterion_alexnet = checkpoint_alexnet['loss']\n",
        "  print('Trained model loss function loaded...')\n",
        "\n",
        "  # train_loss_alexnet_pre, train_accuracy_alexnet_pre = retrieve_history_list(\n",
        "  #                               checkpoint_alexnet['train_history'])\n",
        "  # val_loss_alexnet_pre, val_accuracy_alexnet_pre = retrieve_history_list(\n",
        "  #                               checkpoint_alexnet['validation_history'])"
      ],
      "execution_count": null,
      "outputs": [
        {
          "output_type": "stream",
          "name": "stderr",
          "text": [
            "/usr/local/lib/python3.7/dist-packages/torchvision/models/_utils.py:209: UserWarning: The parameter 'pretrained' is deprecated since 0.13 and will be removed in 0.15, please use 'weights' instead.\n",
            "  f\"The parameter '{pretrained_param}' is deprecated since 0.13 and will be removed in 0.15, \"\n",
            "/usr/local/lib/python3.7/dist-packages/torchvision/models/_utils.py:223: UserWarning: Arguments other than a weight enum or `None` for 'weights' are deprecated since 0.13 and will be removed in 0.15. The current behavior is equivalent to passing `weights=AlexNet_Weights.IMAGENET1K_V1`. You can also use `weights=AlexNet_Weights.DEFAULT` to get the most up-to-date weights.\n",
            "  warnings.warn(msg)\n",
            "Downloading: \"https://download.pytorch.org/models/alexnet-owt-7be5be79.pth\" to /root/.cache/torch/hub/checkpoints/alexnet-owt-7be5be79.pth\n"
          ]
        },
        {
          "output_type": "display_data",
          "data": {
            "text/plain": [
              "  0%|          | 0.00/233M [00:00<?, ?B/s]"
            ],
            "application/vnd.jupyter.widget-view+json": {
              "version_major": 2,
              "version_minor": 0,
              "model_id": "52c29a07a2c54ebe9013e46abc9ef5d6"
            }
          },
          "metadata": {}
        },
        {
          "output_type": "stream",
          "name": "stdout",
          "text": [
            "9216\n",
            "cuda:0\n",
            "Previously trained model weights state_dict loaded...\n",
            "Previously trained optimizer state_dict loaded...\n",
            "Previously trained for 30 number of epochs...\n",
            "Trained model loss function loaded...\n"
          ]
        }
      ]
    },
    {
      "cell_type": "markdown",
      "source": [
        "# SDNET2018 Evaluation"
      ],
      "metadata": {
        "id": "9TzqhE9nutkq"
      }
    },
    {
      "cell_type": "markdown",
      "metadata": {
        "id": "u-9mtP_UZKLa"
      },
      "source": [
        "## Evaluation functions"
      ]
    },
    {
      "cell_type": "code",
      "metadata": {
        "cellView": "form",
        "id": "5TZU44ngZC6P"
      },
      "source": [
        "#@title **Evaluation Method**\n",
        "\n",
        "#@markdown  *Confusion Matrix*, *Precision*, *Recall*, *F1 Scrore*, and Validation *Accuracy* are the standard evaluation method for the classification model.\n",
        "\n",
        "#@markdown **Confusion Matrix** as the name suggests gives us a matrix as output and describes the complete performance of the model.\n",
        "\n",
        "#@markdown | Actual / Predicted| Positive               | Negetive               |\n",
        "#@markdown | :---------------- |   :-----------------:  |  :-----------------:   |\n",
        "#@markdown |  Positive         | True Positive (**TP**) | False Negetive (**FN**)|\n",
        "#@markdown |  Negetive         | False Positive (**FP**)| True Negetive (**TN**) |\n",
        "\n",
        "#@markdown **Precision** is the number of correctly identified cases among all the identified cases. \n",
        "#@markdown $$Precision, P = \\frac{TP}{TP + FP}$$\n",
        "\n",
        "#@markdown **Recall** is the number of correctly identified cases from all the positive representations. \n",
        "#@markdown $$Recall, R = \\frac{TP}{TP + FN}$$\n",
        "\n",
        "#@markdown **F1 score** is the harmonic average of precision and recall.\n",
        "#@markdown $$F1Scrore, F1 = 2\\times \\frac{P \\times R}{P + R}$$\n",
        "\n",
        "#@markdown **Accuracy** is the ratio of number of correct predictions to the total number of input sampols.\n",
        "#@markdown $$Accuracy = \\frac{Number of Correct predictions}{Total number of predictions made}$$"
      ],
      "execution_count": null,
      "outputs": []
    },
    {
      "cell_type": "code",
      "metadata": {
        "id": "d8tgJhT3zMJF"
      },
      "source": [
        "# evaluation function\n",
        "def evaluate(model, criterion, optimizer, dataloader, device):\n",
        "  model.eval()\n",
        "  # val_running_loss = 0.0\n",
        "  val_running_correct = 0\n",
        "\n",
        "  pred_list = np.empty(shape=0)\n",
        "  target_list = np.empty(shape=0)\n",
        "\n",
        "  with torch.no_grad():\n",
        "    for inputs, targets in dataloader:\n",
        "      # move data to GPU\n",
        "      inputs, targets = inputs.to(device), targets.to(device)\n",
        "\n",
        "      # Forward pass\n",
        "      outputs = model(inputs)\n",
        "      # loss = criterion(outputs, targets)\n",
        "\n",
        "      # Get prediction\n",
        "      # torch.max returns both max and argmax\n",
        "      _, predictions = torch.max(outputs, 1)\n",
        "\n",
        "      # val_running_loss += loss.item()\n",
        "      val_running_correct += (predictions == targets).sum().item()\n",
        "\n",
        "      # store predictions and targets for showing Evaluation Statistics\n",
        "      pred_list = np.concatenate((pred_list, predictions.cpu().detach().numpy()), axis=0)\n",
        "      target_list = np.concatenate((target_list, targets.cpu().detach().numpy()), axis=0)\n",
        "    \n",
        "    # val_loss = val_running_loss/len(dataloader.dataset)\n",
        "    val_accuracy = val_running_correct/len(dataloader.dataset)\n",
        "    history = {\n",
        "        'loss': None,\n",
        "        'accuracy': val_accuracy,\n",
        "        'y_true': target_list,\n",
        "        'y_pred': pred_list\n",
        "    }\n",
        "    return history"
      ],
      "execution_count": null,
      "outputs": []
    },
    {
      "cell_type": "code",
      "metadata": {
        "id": "a8lm2d3EH4jj"
      },
      "source": [
        "def show_evaluation_history(y_true, y_pred, pos_label, y_labels, y_label_names, \n",
        "                            save=False, save_path_dir=None, file_name_prefix=None):\n",
        "  # show classification report\n",
        "  print(\"Classification Report:\")\n",
        "  cls_rep_str = classification_report(y_true=y_true, \n",
        "                                  y_pred=y_pred, \n",
        "                                  labels=y_labels, \n",
        "                                  target_names=y_label_names, \n",
        "                                  digits=4, \n",
        "                                  output_dict=False)\n",
        "  print(cls_rep_str)\n",
        "  cls_rep_dict = classification_report(y_true=y_true, \n",
        "                                  y_pred=y_pred, \n",
        "                                  labels=y_labels, \n",
        "                                  target_names=y_label_names, \n",
        "                                  digits=4, \n",
        "                                  output_dict=True)\n",
        "  print(cls_rep_dict)\n",
        "  # save classification_report as json file\n",
        "  if save and save_path_dir:\n",
        "    try:\n",
        "      import json\n",
        "      file_path = Path(save_path_dir) / \\\n",
        "              f\"{file_name_prefix if file_name_prefix else \\\n",
        "              ''}-classification_report-{datetime.now().strftime('%m_%d_%Y_%H_%M_%S')}.json\"\n",
        "      with open(file_path, \"w\") as outfile:\n",
        "        json.dump(cls_rep_dict, outfile)\n",
        "    except Exception as e:\n",
        "      print(\"Classification_report json file save failed!\")\n",
        "      raise e\n",
        "\n",
        "  # show Precision Recall\n",
        "  ps = precision_score(y_true=y_true, \n",
        "                       y_pred=y_pred, \n",
        "                       labels=y_labels, \n",
        "                       pos_label=pos_label, \n",
        "                       average='binary')\n",
        "  print(f\"precision score: {ps}\")\n",
        "\n",
        "  # show recall score\n",
        "  rs = recall_score(y_true=y_true, \n",
        "                    y_pred=y_pred, \n",
        "                    labels=y_labels, \n",
        "                    pos_label=pos_label, \n",
        "                    average='binary')\n",
        "  print(f\"recall score: {rs}\")\n",
        "\n",
        "  # show f1 score\n",
        "  f1s = f1_score(y_true=y_true, \n",
        "                  y_pred=y_pred, \n",
        "                  labels=y_labels, \n",
        "                  pos_label=pos_label, \n",
        "                  average='binary')\n",
        "  print(f\"F1 score: {f1s}\")\n",
        "\n",
        "  # show accuracy score\n",
        "  acc_score = accuracy_score(y_true=y_true, \n",
        "                             y_pred=y_pred,\n",
        "                             normalize=True)\n",
        "  print(f\"accuracy score: {acc_score}\")\n",
        "\n",
        "  # show confusion matrix\n",
        "  print(\"Confusion matrix:\")\n",
        "  cm = confusion_matrix(y_true=y_true, \n",
        "                        y_pred=y_pred, \n",
        "                        labels=y_labels, \n",
        "                        normalize=None)\n",
        "  cm_disp = ConfusionMatrixDisplay(confusion_matrix=cm, display_labels=y_labels)\n",
        "  cm_disp.plot()\n",
        "\n",
        "  if save and save_path_dir:\n",
        "    try:\n",
        "      file_path = Path(save_path_dir) / \\\n",
        "              f\"{file_name_prefix if file_name_prefix else \\\n",
        "              ''}-confusion_matrix-{datetime.now().strftime('%m_%d_%Y_%H_%M_%S')}.png\"\n",
        "      plt.savefig(file_path)\n",
        "    except Exception as e:\n",
        "      print(\"Figure save failed!\")\n",
        "      raise e\n",
        "  plt.show()\n",
        "\n",
        "  # show Precision Recall Display\n",
        "  precision, recall, _ = precision_recall_curve(y_true=y_true, \n",
        "                                                probas_pred=y_pred,\n",
        "                                                # pos_label=pos_label\n",
        "                                                )\n",
        "  print(f\"precision_recall_curve: precision={precision} and recall={recall}\")\n",
        "  average_precision = average_precision_score(y_true=y_true, \n",
        "                                              y_score=y_pred,\n",
        "                                              average='macro',\n",
        "                                              pos_label=pos_label)\n",
        "  prd_disp = PrecisionRecallDisplay(precision=precision, \n",
        "                                    recall=recall,\n",
        "                                    average_precision=average_precision, \n",
        "                                    estimator_name=None)\n",
        "  prd_disp.plot()\n",
        "  if save and save_path_dir:\n",
        "    try:\n",
        "      file_path = Path(save_path_dir) / \\\n",
        "              f\"{file_name_prefix if file_name_prefix else \\\n",
        "              ''}-precision_recall_display-{datetime.now().strftime('%m_%d_%Y_%H_%M_%S')}.png\"\n",
        "      plt.savefig(file_path)\n",
        "    except Exception as e:\n",
        "      print(\"Figure save failed!\")\n",
        "      raise e\n",
        "  plt.show()"
      ],
      "execution_count": null,
      "outputs": []
    },
    {
      "cell_type": "markdown",
      "metadata": {
        "id": "8Zmv3ygO_JF9"
      },
      "source": [
        "## Important Considerations"
      ]
    },
    {
      "cell_type": "markdown",
      "metadata": {
        "id": "X5wycA6g_XJL"
      },
      "source": [
        "- Our data set labels as `crack` and `noncrack`\n",
        "- After loading dataset into dataloader we have seen labes are converted as numbers, also `crack` as `0` and `noncrack` as `1`. We confermed that by seeing number of crack and noncrack images into test dataset and later comparing with `targets` which was represented as *Tensor* with values `0` and `1` representing class labels.\n",
        "- So in our case **positive label** `crack` represnting as `pos_label=0` for **binary classification**.\n",
        "\n",
        "\n"
      ]
    },
    {
      "cell_type": "code",
      "metadata": {
        "id": "inZv0K4eDG8h"
      },
      "source": [
        "# according to our binary classification problem and seeing dataloader targets reprentation\n",
        "# positive class `crack` represnting as `pos_label=0`\n",
        "# Store it a variable for later use. Otherwise, some function in binary classification `pos_label: default=1`\n",
        "POS_LABEL = 0\n",
        "# store corresponding string name\n",
        "POS_LABEL_NAME = 'crack'\n",
        "\n",
        "# Store all Class Label name in a variable for later use\n",
        "# keep in mind store them as 0 indexed sequnce, so order is very important\n",
        "Y_LABELS = [0, 1] # corresponding list of label indices\n",
        "Y_LABEL_NAMES = ['crack', 'noncrack'] # 0 index for `crack` and 1 index for `noncrack`\n"
      ],
      "execution_count": null,
      "outputs": []
    },
    {
      "cell_type": "markdown",
      "source": [
        "## Start SDNET2018 evaluation"
      ],
      "metadata": {
        "id": "bcQXcelO05x_"
      }
    },
    {
      "cell_type": "markdown",
      "source": [
        "### Dictionary variable to store evaluation history"
      ],
      "metadata": {
        "id": "xsZbpfQala3Y"
      }
    },
    {
      "cell_type": "code",
      "source": [
        "eval_hist_dict = {}\n",
        "# vgg16_y_true,vgg16_y_pred,resnet18_y_true,resnet18_y_pred,densenet161_y_true,densenet161_y_pred,alexnet_y_true,alexnet_y_pred\n"
      ],
      "metadata": {
        "id": "6cJ8HZiPls62"
      },
      "execution_count": null,
      "outputs": []
    },
    {
      "cell_type": "markdown",
      "metadata": {
        "id": "ZvOZx-Wq1tG1"
      },
      "source": [
        "### VGG"
      ]
    },
    {
      "cell_type": "code",
      "metadata": {
        "id": "IDojlZvT0whh"
      },
      "source": [
        "if ACTIVE_EVALUATION_STAGE and model_checkpoint_path_dict.get('vgg16', None):\n",
        "  # evaluate model\n",
        "  vgg16_history = evaluate(\n",
        "        model=model_vgg16, \n",
        "        criterion=criterion_vgg16, \n",
        "        optimizer=optimizer_vgg16,\n",
        "        dataloader=test_loader, \n",
        "        device=device)\n",
        "  \n",
        "  eval_hist_dict[\"vgg16_y_true\"] = vgg16_history['y_true']\n",
        "  eval_hist_dict[\"vgg16_y_pred\"] = vgg16_history['y_pred']"
      ],
      "execution_count": null,
      "outputs": []
    },
    {
      "cell_type": "code",
      "metadata": {
        "id": "v2_Jq4vYQY0X",
        "colab": {
          "base_uri": "https://localhost:8080/",
          "height": 856
        },
        "outputId": "004dd8d7-989e-4fdb-e8f0-932edb63eb80"
      },
      "source": [
        "if ACTIVE_EVALUATION_STAGE and model_checkpoint_path_dict.get('vgg16', None):  \n",
        "  show_evaluation_history(y_true=vgg16_history['y_true'], \n",
        "                          y_pred=vgg16_history['y_pred'], \n",
        "                          pos_label=POS_LABEL,\n",
        "                          y_labels=Y_LABELS, \n",
        "                          y_label_names=Y_LABEL_NAMES, \n",
        "                          save=True, \n",
        "                          save_path_dir=LOGS_DIRNAME, \n",
        "                          file_name_prefix='vgg16-')\n"
      ],
      "execution_count": null,
      "outputs": [
        {
          "output_type": "stream",
          "name": "stdout",
          "text": [
            "Classification Report:\n",
            "              precision    recall  f1-score   support\n",
            "\n",
            "       crack     0.9000    0.1215    0.2141      3851\n",
            "    noncrack     0.5293    0.9865    0.6889      3856\n",
            "\n",
            "    accuracy                         0.5543      7707\n",
            "   macro avg     0.7146    0.5540    0.4515      7707\n",
            "weighted avg     0.7145    0.5543    0.4517      7707\n",
            "\n",
            "{'crack': {'precision': 0.9, 'recall': 0.12152687613606855, 'f1-score': 0.21413864104323954, 'support': 3851}, 'noncrack': {'precision': 0.529288994016975, 'recall': 0.9865145228215768, 'f1-score': 0.6889432219505569, 'support': 3856}, 'accuracy': 0.5543012845465162, 'macro avg': {'precision': 0.7146444970084875, 'recall': 0.5540206994788227, 'f1-score': 0.4515409314968982, 'support': 7707}, 'weighted avg': {'precision': 0.7145242456117109, 'recall': 0.5543012845465162, 'f1-score': 0.45169494881262007, 'support': 7707}}\n",
            "precision score: 0.9\n",
            "recall score: 0.12152687613606855\n",
            "F1 score: 0.21413864104323954\n",
            "accuracy score: 0.5543012845465162\n",
            "Confusion matrix:\n"
          ]
        },
        {
          "output_type": "display_data",
          "data": {
            "text/plain": [
              "<Figure size 432x288 with 2 Axes>"
            ],
            "image/png": "[encoded data removed]"
          },
          "metadata": {
            "needs_background": "light"
          }
        },
        {
          "output_type": "stream",
          "name": "stdout",
          "text": [
            "precision_recall_curve: precision=[0.50032438 0.52928899 1.        ] and recall=[1.         0.98651452 0.        ]\n"
          ]
        },
        {
          "output_type": "display_data",
          "data": {
            "text/plain": [
              "<Figure size 432x288 with 1 Axes>"
            ],
            "image/png": "[encoded data removed]"
          },
          "metadata": {
            "needs_background": "light"
          }
        }
      ]
    },
    {
      "cell_type": "markdown",
      "metadata": {
        "id": "onkuZ6Yw_rgE"
      },
      "source": [
        "### ResNet"
      ]
    },
    {
      "cell_type": "code",
      "metadata": {
        "id": "6pwtp2ui_rgM"
      },
      "source": [
        "if ACTIVE_EVALUATION_STAGE and model_checkpoint_path_dict.get('resnet18', None):\n",
        "  # evaluate model\n",
        "  resnet18_history = evaluate(\n",
        "        model=model_resnet18, \n",
        "        criterion=criterion_resnet18, \n",
        "        optimizer=optimizer_resnet18,\n",
        "        dataloader=test_loader, \n",
        "        device=device)\n",
        "  \n",
        "  eval_hist_dict[\"resnet18_y_true\"] = resnet18_history['y_true']\n",
        "  eval_hist_dict[\"resnet18_y_pred\"] = resnet18_history['y_pred']"
      ],
      "execution_count": null,
      "outputs": []
    },
    {
      "cell_type": "code",
      "metadata": {
        "id": "jTSI1-wo_rgO",
        "colab": {
          "base_uri": "https://localhost:8080/",
          "height": 856
        },
        "outputId": "082e2317-8e84-47b8-aec8-0d12c1fdf296"
      },
      "source": [
        "if ACTIVE_EVALUATION_STAGE and model_checkpoint_path_dict.get('resnet18', None):  \n",
        "  show_evaluation_history(y_true=resnet18_history['y_true'], \n",
        "                          y_pred=resnet18_history['y_pred'], \n",
        "                          pos_label=POS_LABEL,\n",
        "                          y_labels=Y_LABELS, \n",
        "                          y_label_names=Y_LABEL_NAMES, \n",
        "                          save=True, \n",
        "                          save_path_dir=LOGS_DIRNAME, \n",
        "                          file_name_prefix='resnet18-')\n"
      ],
      "execution_count": null,
      "outputs": [
        {
          "output_type": "stream",
          "name": "stdout",
          "text": [
            "Classification Report:\n",
            "              precision    recall  f1-score   support\n",
            "\n",
            "       crack     0.8794    0.2215    0.3539      3851\n",
            "    noncrack     0.5550    0.9697    0.7059      3856\n",
            "\n",
            "    accuracy                         0.5958      7707\n",
            "   macro avg     0.7172    0.5956    0.5299      7707\n",
            "weighted avg     0.7171    0.5958    0.5300      7707\n",
            "\n",
            "{'crack': {'precision': 0.8793814432989691, 'recall': 0.2215009088548429, 'f1-score': 0.3538684920141049, 'support': 3851}, 'noncrack': {'precision': 0.5549948048092623, 'recall': 0.9696576763485477, 'f1-score': 0.7059378835079769, 'support': 3856}, 'accuracy': 0.5958219800181653, 'macro avg': {'precision': 0.7171881240541157, 'recall': 0.5955792926016953, 'f1-score': 0.529903187761041, 'support': 7707}, 'weighted avg': {'precision': 0.7170828993757423, 'recall': 0.5958219800181653, 'f1-score': 0.5300173921828307, 'support': 7707}}\n",
            "precision score: 0.8793814432989691\n",
            "recall score: 0.2215009088548429\n",
            "F1 score: 0.3538684920141049\n",
            "accuracy score: 0.5958219800181653\n",
            "Confusion matrix:\n"
          ]
        },
        {
          "output_type": "display_data",
          "data": {
            "text/plain": [
              "<Figure size 432x288 with 2 Axes>"
            ],
            "image/png": "[encoded data removed]"
          },
          "metadata": {
            "needs_background": "light"
          }
        },
        {
          "output_type": "stream",
          "name": "stdout",
          "text": [
            "precision_recall_curve: precision=[0.50032438 0.5549948  1.        ] and recall=[1.         0.96965768 0.        ]\n"
          ]
        },
        {
          "output_type": "display_data",
          "data": {
            "text/plain": [
              "<Figure size 432x288 with 1 Axes>"
            ],
            "image/png": "[encoded data removed]"
          },
          "metadata": {
            "needs_background": "light"
          }
        }
      ]
    },
    {
      "cell_type": "markdown",
      "metadata": {
        "id": "CJVeqBFl_yky"
      },
      "source": [
        "### DenseNet"
      ]
    },
    {
      "cell_type": "code",
      "metadata": {
        "id": "2Vb7wDvMAUm3"
      },
      "source": [
        "if ACTIVE_EVALUATION_STAGE and model_checkpoint_path_dict.get('densenet161', None):\n",
        "  # evaluate model\n",
        "  densenet161_history = evaluate(\n",
        "        model=model_densenet161, \n",
        "        criterion=criterion_densenet161, \n",
        "        optimizer=optimizer_densenet161,\n",
        "        dataloader=test_loader, \n",
        "        device=device)\n",
        "  \n",
        "  eval_hist_dict[\"densenet161_y_true\"] = densenet161_history['y_true']\n",
        "  eval_hist_dict[\"densenet161_y_pred\"] = densenet161_history['y_pred']"
      ],
      "execution_count": null,
      "outputs": []
    },
    {
      "cell_type": "code",
      "metadata": {
        "id": "zUFINJW8AUm8",
        "colab": {
          "base_uri": "https://localhost:8080/",
          "height": 856
        },
        "outputId": "8950a3e0-4bf1-4bd9-bd54-89e30d7994ed"
      },
      "source": [
        "if ACTIVE_EVALUATION_STAGE and model_checkpoint_path_dict.get('densenet161', None):  \n",
        "  show_evaluation_history(y_true=densenet161_history['y_true'], \n",
        "                          y_pred=densenet161_history['y_pred'], \n",
        "                          pos_label=POS_LABEL,\n",
        "                          y_labels=Y_LABELS, \n",
        "                          y_label_names=Y_LABEL_NAMES, \n",
        "                          save=True, \n",
        "                          save_path_dir=LOGS_DIRNAME, \n",
        "                          file_name_prefix='densenet161-')\n"
      ],
      "execution_count": null,
      "outputs": [
        {
          "output_type": "stream",
          "name": "stdout",
          "text": [
            "Classification Report:\n",
            "              precision    recall  f1-score   support\n",
            "\n",
            "       crack     0.8850    0.1239    0.2173      3851\n",
            "    noncrack     0.5293    0.9839    0.6883      3856\n",
            "\n",
            "    accuracy                         0.5542      7707\n",
            "   macro avg     0.7071    0.5539    0.4528      7707\n",
            "weighted avg     0.7070    0.5542    0.4530      7707\n",
            "\n",
            "{'crack': {'precision': 0.8849721706864564, 'recall': 0.12386393144637757, 'f1-score': 0.21731207289293847, 'support': 3851}, 'noncrack': {'precision': 0.529296875, 'recall': 0.9839211618257261, 'f1-score': 0.6883164005805514, 'support': 3856}, 'accuracy': 0.5541715323731673, 'macro avg': {'precision': 0.7071345228432282, 'recall': 0.5538925466360518, 'f1-score': 0.4528142367367449, 'support': 7707}, 'weighted avg': {'precision': 0.7070191487366736, 'recall': 0.5541715323731673, 'f1-score': 0.4529670213246805, 'support': 7707}}\n",
            "precision score: 0.8849721706864564\n",
            "recall score: 0.12386393144637757\n",
            "F1 score: 0.21731207289293847\n",
            "accuracy score: 0.5541715323731673\n",
            "Confusion matrix:\n"
          ]
        },
        {
          "output_type": "display_data",
          "data": {
            "text/plain": [
              "<Figure size 432x288 with 2 Axes>"
            ],
            "image/png": "[encoded data removed]"
          },
          "metadata": {
            "needs_background": "light"
          }
        },
        {
          "output_type": "stream",
          "name": "stdout",
          "text": [
            "precision_recall_curve: precision=[0.50032438 0.52929688 1.        ] and recall=[1.         0.98392116 0.        ]\n"
          ]
        },
        {
          "output_type": "display_data",
          "data": {
            "text/plain": [
              "<Figure size 432x288 with 1 Axes>"
            ],
            "image/png": "[encoded data removed]"
          },
          "metadata": {
            "needs_background": "light"
          }
        }
      ]
    },
    {
      "cell_type": "markdown",
      "metadata": {
        "id": "zYuyFqiV_8LK"
      },
      "source": [
        "### AlexNet"
      ]
    },
    {
      "cell_type": "code",
      "metadata": {
        "id": "tRIRj5nFAgdQ"
      },
      "source": [
        "if ACTIVE_EVALUATION_STAGE and model_checkpoint_path_dict.get('alexnet', None):\n",
        "  # evaluate model\n",
        "  alexnet_history = evaluate(\n",
        "        model=model_alexnet, \n",
        "        criterion=criterion_alexnet, \n",
        "        optimizer=optimizer_alexnet,\n",
        "        dataloader=test_loader, \n",
        "        device=device)\n",
        "  \n",
        "  eval_hist_dict[\"alexnet_y_true\"] = alexnet_history['y_true']\n",
        "  eval_hist_dict[\"alexnet_y_pred\"] = alexnet_history['y_pred']"
      ],
      "execution_count": null,
      "outputs": []
    },
    {
      "cell_type": "code",
      "metadata": {
        "id": "OBJBRHF7AgdR",
        "colab": {
          "base_uri": "https://localhost:8080/",
          "height": 856
        },
        "outputId": "d9673914-31c4-42a0-aaec-e67013203f69"
      },
      "source": [
        "if ACTIVE_EVALUATION_STAGE and model_checkpoint_path_dict.get('alexnet', None):  \n",
        "  show_evaluation_history(y_true=alexnet_history['y_true'], \n",
        "                          y_pred=alexnet_history['y_pred'], \n",
        "                          pos_label=POS_LABEL,\n",
        "                          y_labels=Y_LABELS, \n",
        "                          y_label_names=Y_LABEL_NAMES, \n",
        "                          save=True, \n",
        "                          save_path_dir=LOGS_DIRNAME, \n",
        "                          file_name_prefix='alexnet-')\n"
      ],
      "execution_count": null,
      "outputs": [
        {
          "output_type": "stream",
          "name": "stdout",
          "text": [
            "Classification Report:\n",
            "              precision    recall  f1-score   support\n",
            "\n",
            "       crack     0.8924    0.1013    0.1819      3851\n",
            "    noncrack     0.5239    0.9878    0.6847      3856\n",
            "\n",
            "    accuracy                         0.5448      7707\n",
            "   macro avg     0.7082    0.5445    0.4333      7707\n",
            "weighted avg     0.7081    0.5448    0.4335      7707\n",
            "\n",
            "{'crack': {'precision': 0.8924485125858124, 'recall': 0.10127239678005713, 'f1-score': 0.18190298507462685, 'support': 3851}, 'noncrack': {'precision': 0.5239339752407153, 'recall': 0.9878112033195021, 'f1-score': 0.6847024986518065, 'support': 3856}, 'accuracy': 0.5448293758920462, 'macro avg': {'precision': 0.7081912439132638, 'recall': 0.5445418000497796, 'f1-score': 0.4333027418632167, 'support': 7707}, 'weighted avg': {'precision': 0.7080717050079359, 'recall': 0.5448293758920462, 'f1-score': 0.43346584018733025, 'support': 7707}}\n",
            "precision score: 0.8924485125858124\n",
            "recall score: 0.10127239678005713\n",
            "F1 score: 0.18190298507462685\n",
            "accuracy score: 0.5448293758920462\n",
            "Confusion matrix:\n"
          ]
        },
        {
          "output_type": "display_data",
          "data": {
            "text/plain": [
              "<Figure size 432x288 with 2 Axes>"
            ],
            "image/png": "[encoded data removed]"
          },
          "metadata": {
            "needs_background": "light"
          }
        },
        {
          "output_type": "stream",
          "name": "stdout",
          "text": [
            "precision_recall_curve: precision=[0.50032438 0.52393398 1.        ] and recall=[1.        0.9878112 0.       ]\n"
          ]
        },
        {
          "output_type": "display_data",
          "data": {
            "text/plain": [
              "<Figure size 432x288 with 1 Axes>"
            ],
            "image/png": "[encoded data removed]"
          },
          "metadata": {
            "needs_background": "light"
          }
        }
      ]
    },
    {
      "cell_type": "markdown",
      "source": [
        "## Generate models SDNET2018 eval_hist file"
      ],
      "metadata": {
        "id": "-5Ktp88wiUJq"
      }
    },
    {
      "cell_type": "code",
      "source": [
        "eval_hist_file_name = f\"model_SDNET2018_eval_hist-{datetime.now().strftime('%m_%d_%Y_%H_%M_%S')}.csv\"\n",
        "eval_hist_file_path = Path(LOGS_DIRNAME) / eval_hist_file_name\n",
        "\n",
        "eval_hist_df = pd.DataFrame.from_dict(eval_hist_dict) \n",
        "eval_hist_df.to_csv(eval_hist_file_path, index=False, header=True)\n"
      ],
      "metadata": {
        "id": "VsNRRGzyi6bK"
      },
      "execution_count": null,
      "outputs": []
    },
    {
      "cell_type": "markdown",
      "metadata": {
        "id": "FCCy8Ade5krf"
      },
      "source": [
        "## Save Logs"
      ]
    },
    {
      "cell_type": "code",
      "source": [
        "!cp \"/content/dataset_dict.json\" \"/content/logs\""
      ],
      "metadata": {
        "id": "Wc4cLFWBvvnt"
      },
      "execution_count": null,
      "outputs": []
    },
    {
      "cell_type": "code",
      "metadata": {
        "id": "nQOMy4du5krn",
        "colab": {
          "base_uri": "https://localhost:8080/"
        },
        "outputId": "55560e9b-9fd4-462b-eadb-13e4575bdfcf"
      },
      "source": [
        "if SAVE_LOGS_TO_GOOGLE_DRIVE and GOOGLE_DRIVE_LOGS_PATH:\n",
        "  # see inside gdrive\n",
        "  print(*os.listdir(GOOGLE_DRIVE_MOUNTED_DIRNAME), sep='\\n')\n",
        "  # select location of gdrive\n",
        "  gdrive_logs_path = f'{GOOGLE_DRIVE_MOUNTED_DIRNAME}/{GOOGLE_DRIVE_LOGS_PATH}'\n",
        "  print(*os.listdir(gdrive_logs_path), sep='\\n')\n",
        "\n",
        "  # copy colab models to gdrive\n",
        "  # how to : https://stackoverflow.com/q/59710439/8520849\n",
        "  # !cp -av 'logs' 'gdrive/MyDrive/ML/concrete_crack_detection/logs'\n",
        "  # os.system(\"cp -av {} {}\".format(logs_destination, gdrive_logs_path))\n",
        "  copytree(src=logs_destination, dst=gdrive_logs_path)"
      ],
      "execution_count": null,
      "outputs": [
        {
          "output_type": "stream",
          "name": "stdout",
          "text": [
            "MyDrive\n",
            ".file-revisions-by-id\n",
            ".shortcut-targets-by-id\n",
            ".Trash-0\n",
            "\n"
          ]
        }
      ]
    },
    {
      "cell_type": "markdown",
      "metadata": {
        "id": "TXuSQ0lc6Vh6"
      },
      "source": [
        "## Models used for Transfer Learning"
      ]
    },
    {
      "cell_type": "markdown",
      "metadata": {
        "id": "PWGdscge6udS"
      },
      "source": [
        "We applied transfer learning technique based on the following models:\n",
        "*   [VGG](https://arxiv.org/abs/1409.1556)\n",
        "*   [ResNet](https://arxiv.org/abs/1512.03385)\n",
        "*   [DenseNet](https://arxiv.org/abs/1608.06993)\n",
        "*   [AlexNet](https://arxiv.org/abs/1404.5997)"
      ]
    }
  ]
}